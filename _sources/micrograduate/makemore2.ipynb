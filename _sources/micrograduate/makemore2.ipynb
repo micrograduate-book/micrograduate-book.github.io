{
 "cells": [
  {
   "cell_type": "markdown",
   "id": "5094a092-245c-4d20-9cc7-ead263ede1bd",
   "metadata": {
    "tags": []
   },
   "source": [
    "# 3. **makemore** (part 2): mlp"
   ]
  },
  {
   "cell_type": "code",
   "execution_count": 1,
   "id": "b24d73f7",
   "metadata": {},
   "outputs": [],
   "source": [
    "import sys\n",
    "\n",
    "IN_COLAB = \"google.colab\" in sys.modules\n",
    "if IN_COLAB:\n",
    "    print(\"Cloning repo...\")\n",
    "    !git clone --quiet https://github.com/ckaraneen/micrograduate.git > /dev/null\n",
    "    %cd micrograduate\n",
    "    print(\"Installing requirements...\")\n",
    "    !pip install --quiet uv\n",
    "    !uv pip install --system --quiet -r requirements.txt"
   ]
  },
  {
   "cell_type": "markdown",
   "id": "042c805e",
   "metadata": {},
   "source": [
    "## Intro"
   ]
  },
  {
   "cell_type": "markdown",
   "id": "1c3d337a-cc28-4db0-9cd7-9684437068a9",
   "metadata": {},
   "source": [
    "Time to make more out of **makemore**! In the last lesson, we implemented the bigram language model, both using counts and a super simple, 1-linear-layer **nn**. How we approach training is that we looked only at the single previous character and we predicted a distribution for the character coming next in the sequence. We did that by taking counts and normalizing them into probabilities so that each row in the count matrix sums to $1$. This method is great if you only have one character of previous context. The problem with that model though is that predictions are not very good. Another problem, if we are to take more context into account, is that the counts in the matrix grow exponentially as we increase the length of the context. For just $1$ character of context we have $27$ rows, each representing the next possible character. For $2$ characters, the number of rows would grow to $27 \\cdot 27 = 729$. Whereas for $3$ characters, it would explode to $27 \\cdot 27 \\cdot 27 = 19683$, and so on. This solution simply doesn't scale well and explodes. That is why we are going to move on and instead implement an **mlp** model to predict the next character in a sequence."
   ]
  },
  {
   "cell_type": "markdown",
   "id": "2aab4840",
   "metadata": {},
   "source": [
    "## Building a **mlp** language model"
   ]
  },
  {
   "cell_type": "markdown",
   "id": "f25c2bce",
   "metadata": {},
   "source": [
    "The modeling approach we are going to adopt follows [Bengio et al. 2003](https://dl.acm.org/doi/10.5555/944919.944966), an important paper that we are going to implement. Although they implement a word-level language model, we are going to stick to our character-level language model, but follow the same approach. The authors propose associating each and every word (out of e.g. $17000$) with a feature vector (e.g. of $30$ dimensions). In other words, every word is a point that is embedded into a $30$-dimensional space. You can think of it this way. We have $17000$ point-vectors in a $30$-dimensional space. As you can imagine, that is very crowded, that's lots of points for a very small space. Now, in the beginning, these words are initialized completely randomly: they are spread out at random. But, then we are going to tune these embeddings of these words using **backprop**. So during the course of training of this **nn**, these point-vectors are going to basically be moved around in this space. And you might imagine that, for example, words that have very similar meanings or that are indeed synonyms of each other might end up in a very similar part of the vector space, and, conversely, words with very different meanings will go somewhere else in that space. Now, their modeling approach otherwise is identical to what ours has been so far. They are using a **mlp** **nn** to predict the next word, given the previous words and to train the **nn** they are maximizing the log-likehood of the training data, just like we did. Here, is their example of this intuition: suppose the exact phrase *`a dog was running in a`* has never occured and at test time we want our model to complete the sentence by predicting the word that might follow it (e.g. *`room`*). Because the model has never encountered this exact phrase in the training set, it is out of distribution, as we say. Meaning, you don't have fundamentally any reason to suspect what might come next. However, the approach we are following allows you to get around such suspicion. Maybe we haven't seen the exact phrase, but maybe we have seen similar phrases like: *`the dog was running in a`* and maybe your **nn** has learned that *`a`* and *`the`* are frequently interchangeble with each other. So maybe our model took the embeddings for *`a`* and *`the`* and it actually put them nearby eachother in the vector space. Thus, you can transfer knowledge through such an embedding and generalize in that way. Similarly, it can do the same with other similar words such that a phrase such as *`The cat is walking in the bedroom`* can help us generalize to a diserable or at least valid sentence like *`a dog was running in a`* **`room`** by merit of the magic of feature vector similarity after training! To put it more simply, manipulating the embedding space allows us to transfer knowledge, predict and generalize to novel scenarios even when fed inputs like the sequence of words mentioned that we have not trained on. If you scroll down the paper, you will see the following diagram:"
   ]
  },
  {
   "cell_type": "code",
   "execution_count": 2,
   "id": "a2d9ef42-b167-4107-8e80-077009c46ffb",
   "metadata": {},
   "outputs": [
    {
     "data": {
      "image/jpeg": "[encoded data removed]",
      "text/plain": [
       "<IPython.core.display.Image object>"
      ]
     },
     "metadata": {},
     "output_type": "display_data"
    }
   ],
   "source": [
    "from IPython.display import Image, display\n",
    "display(Image(filename='bengio2003nn.jpeg'))"
   ]
  },
  {
   "cell_type": "markdown",
   "id": "2bc9423c-003c-4f83-948f-b81b216b3a80",
   "metadata": {},
   "source": [
    "This is the **nn** where we are taking e.g. three previous words and we are trying to predict the fourth word in a sequence, where $w_{t-3}$, $w_{t-2}$, $w_{t-1}$ are the indeces of each incoming word. Since there are $17000$ possible words, these indeces are integers between $0-16999$. There's also a lookup table $C$, a matrix that has $17000$ rows (one for each word embedding) and $30$ columns (one for each feature vector/embedding dimension). Every index basically plucks out a row of this embedding matrix so that each index is converted to the $30$-dimensional embedding vector corresponding to that word. Therefore, each word index corresponds to $30$ neuron activations exiting the first layer: $w_{t-3} \\rightarrow C(w_{t-3})$, $w_{t-2} \\rightarrow C(w_{t-2})$, $w_{t-1} \\rightarrow C(w_{t-1})$. Thus, the first layer contains $90$ neurons in total. Notice how the $C$ matrix is shared, which means that we are indexing the same matrix over and over. Next up is the hidden layer of this **nn** whose size is a hyperparameter, meaning that it is up to the choice of the designer how wide, aka how many neurons, it is going to have. For example it could have $100$ or any other number that endows the **nn** with the best performance, after evaluation. This hidden layer is fully connected to the input layer of $90$ neurons, meaning each neuron is connected to each one of this layer's neurons. Then there's a $\\tanh$ non-linearity, and then there's an output layer. And because of course we want the **nn** to give us the next word, the output layer has $17000$ neurons that are also fully connected to the previous (hidden) layer's neurons. So, there's a lot of parameters, as there are a lot of words, so most computation happens in the output layer. Each of this layer's $17000$ logits is passed through a $softmax$ function, meaning they are all exponentiated and then everything is normalized to sum to $1$, so that we have a nice probability distribution $P(w_{t}=i\\ |\\ context)$ for the next word $w_{t}$ in the sequence. During training of course, we have the label or target index: the index of the next word in the sequence which we use to pluck out the probability of that word from that distribution. The point of training is to maximize the probability of that word **w.r.t.** the **nn** parameters, meaning the weights and biases of the output layer, of the hidden layer and of the embedding lookup table $C$. All of these parameters are optimized using **backprop**. Ignore the green dashed arrows in the diagram, they represent a variation of the **nn** we are not going to explore in this lesson. So, what we  described is the setup. Now, let's implement it!"
   ]
  },
  {
   "cell_type": "code",
   "execution_count": 3,
   "id": "067645e9-e2f0-491f-bc34-ed9718838b39",
   "metadata": {},
   "outputs": [],
   "source": [
    "import torch\n",
    "import torch.nn.functional as F\n",
    "import matplotlib.pyplot as plt\n",
    "if IN_COLAB:\n",
    "    %matplotlib inline\n",
    "else:\n",
    "    %matplotlib ipympl"
   ]
  },
  {
   "cell_type": "code",
   "execution_count": 4,
   "id": "b14295ec-a1f0-4c96-8a86-274f4faf04a7",
   "metadata": {},
   "outputs": [
    {
     "data": {
      "text/plain": [
       "['emma', 'olivia', 'ava', 'isabella', 'sophia', 'charlotte', 'mia', 'amelia']"
      ]
     },
     "execution_count": 4,
     "metadata": {},
     "output_type": "execute_result"
    }
   ],
   "source": [
    "# read in all the words\n",
    "words = open(\"names.txt\", \"r\").read().splitlines()\n",
    "words[:8]"
   ]
  },
  {
   "cell_type": "code",
   "execution_count": 5,
   "id": "8f530570-023f-433e-bb18-248e519af93a",
   "metadata": {},
   "outputs": [
    {
     "data": {
      "text/plain": [
       "32033"
      ]
     },
     "execution_count": 5,
     "metadata": {},
     "output_type": "execute_result"
    }
   ],
   "source": [
    "len(words)"
   ]
  },
  {
   "cell_type": "code",
   "execution_count": 6,
   "id": "dc44b7ac-6abb-4a9c-ba4d-df36bf0ff1d8",
   "metadata": {},
   "outputs": [
    {
     "name": "stdout",
     "output_type": "stream",
     "text": [
      "{1: 'a', 2: 'b', 3: 'c', 4: 'd', 5: 'e', 6: 'f', 7: 'g', 8: 'h', 9: 'i', 10: 'j', 11: 'k', 12: 'l', 13: 'm', 14: 'n', 15: 'o', 16: 'p', 17: 'q', 18: 'r', 19: 's', 20: 't', 21: 'u', 22: 'v', 23: 'w', 24: 'x', 25: 'y', 26: 'z', 0: '.'}\n"
     ]
    }
   ],
   "source": [
    "# build the vocabulary of characters and mappings to/from integers\n",
    "chars = sorted(list(set(\"\".join(words))))\n",
    "ctoi = {c: i + 1 for i, c in enumerate(chars)}\n",
    "ctoi[\".\"] = 0\n",
    "itoc = {i: c for c, i in ctoi.items()}\n",
    "print(itoc)"
   ]
  },
  {
   "cell_type": "markdown",
   "id": "40a05667-9527-4f4e-b103-7fedeaae4119",
   "metadata": {},
   "source": [
    "As you can see, we are reading `32033` words into a list and we are creating character-to/from-index mappings. From here, the first thing we want to do is compile the dataset for the **nn**:"
   ]
  },
  {
   "cell_type": "code",
   "execution_count": 7,
   "id": "dc5360ee-d6ff-45c4-b5af-d5c4eee0367f",
   "metadata": {},
   "outputs": [
    {
     "name": "stdout",
     "output_type": "stream",
     "text": [
      "emma\n",
      "... ---> e\n",
      "..e ---> m\n",
      ".em ---> m\n",
      "emm ---> a\n",
      "mma ---> .\n",
      "olivia\n",
      "... ---> o\n",
      "..o ---> l\n",
      ".ol ---> i\n",
      "oli ---> v\n",
      "liv ---> i\n",
      "ivi ---> a\n",
      "via ---> .\n",
      "ava\n",
      "... ---> a\n",
      "..a ---> v\n",
      ".av ---> a\n",
      "ava ---> .\n",
      "isabella\n",
      "... ---> i\n",
      "..i ---> s\n",
      ".is ---> a\n",
      "isa ---> b\n",
      "sab ---> e\n",
      "abe ---> l\n",
      "bel ---> l\n",
      "ell ---> a\n",
      "lla ---> .\n",
      "sophia\n",
      "... ---> s\n",
      "..s ---> o\n",
      ".so ---> p\n",
      "sop ---> h\n",
      "oph ---> i\n",
      "phi ---> a\n",
      "hia ---> .\n",
      "x.shape=torch.Size([32, 3]), y.shape=torch.Size([32])\n",
      "x.dtype=torch.int64, y.dtype=torch.int64\n"
     ]
    }
   ],
   "source": [
    "# context length: how many characters do we take to predict the next one?\n",
    "block_size = 3\n",
    "\n",
    "\n",
    "def build_dataset(words, verbose=False):\n",
    "    x, y = [], []\n",
    "    for w in words:\n",
    "        if verbose:\n",
    "            print(w)\n",
    "        context = [0] * block_size\n",
    "        for ch in w + \".\":\n",
    "            ix = ctoi[ch]\n",
    "            if verbose:\n",
    "                print(\"\".join(itoc[i] for i in context), \"--->\", itoc[ix])\n",
    "            context = context[1:] + [ix]  # crop and append\n",
    "            x.append(context)\n",
    "            y.append(ix)\n",
    "    x = torch.tensor(x)\n",
    "    y = torch.tensor(y)\n",
    "    print(f\"{x.shape=}, {y.shape=}\")\n",
    "    print(f\"{x.dtype=}, {y.dtype=}\")\n",
    "    return x, y\n",
    "\n",
    "\n",
    "x, y = build_dataset(words[:5], verbose=True)"
   ]
  },
  {
   "cell_type": "markdown",
   "id": "671e3c48-36ee-4eb9-b4da-40bac1764a1b",
   "metadata": {},
   "source": [
    "We first define the `block_size` which is how many characters we need to predict the next one. In the example I just described, we used $3$ words to predict the next one. Here, we also use a block size of $3$ and do the same thing, but remember, instead of words we expect characters as inputs and predictions. After defining the block size, we construct `x`: a feature list of word index triplets (e.g. `[[ 0,  0,  5], [ 0,  5, 13], ...]`) that represent the context inputs, and `y`: a list of corresponding target word indeces (e.g. `[ 5, 13, ...]`). In the printout above, you can see for each word's context character triplet, the corresponding target character. E.g. for an input of  `...` the target character is `e`, for `..e` it's `m`, and so on! Change the `block_size` and see the print out for yourself. Notice how we are using dots as padding. After building the dataset, inputs and targets look like this:"
   ]
  },
  {
   "cell_type": "code",
   "execution_count": 8,
   "id": "223368af-1d90-4bd3-84cf-65083c425de3",
   "metadata": {},
   "outputs": [
    {
     "data": {
      "text/plain": [
       "(tensor([[ 0,  0,  5],\n",
       "         [ 0,  5, 13],\n",
       "         [ 5, 13, 13],\n",
       "         [13, 13,  1],\n",
       "         [13,  1,  0],\n",
       "         [ 0,  0, 15],\n",
       "         [ 0, 15, 12],\n",
       "         [15, 12,  9],\n",
       "         [12,  9, 22],\n",
       "         [ 9, 22,  9],\n",
       "         [22,  9,  1],\n",
       "         [ 9,  1,  0],\n",
       "         [ 0,  0,  1],\n",
       "         [ 0,  1, 22],\n",
       "         [ 1, 22,  1],\n",
       "         [22,  1,  0],\n",
       "         [ 0,  0,  9],\n",
       "         [ 0,  9, 19],\n",
       "         [ 9, 19,  1],\n",
       "         [19,  1,  2],\n",
       "         [ 1,  2,  5],\n",
       "         [ 2,  5, 12],\n",
       "         [ 5, 12, 12],\n",
       "         [12, 12,  1],\n",
       "         [12,  1,  0],\n",
       "         [ 0,  0, 19],\n",
       "         [ 0, 19, 15],\n",
       "         [19, 15, 16],\n",
       "         [15, 16,  8],\n",
       "         [16,  8,  9],\n",
       "         [ 8,  9,  1],\n",
       "         [ 9,  1,  0]]),\n",
       " tensor([ 5, 13, 13,  1,  0, 15, 12,  9, 22,  9,  1,  0,  1, 22,  1,  0,  9, 19,\n",
       "          1,  2,  5, 12, 12,  1,  0, 19, 15, 16,  8,  9,  1,  0]))"
      ]
     },
     "execution_count": 8,
     "metadata": {},
     "output_type": "execute_result"
    }
   ],
   "source": [
    "x, y"
   ]
  },
  {
   "cell_type": "markdown",
   "id": "7e1c4eed-b11a-4a10-b4bb-017f2e86cc00",
   "metadata": {},
   "source": [
    "Given these, let's write a **nn** that takes the `x` and predicts `y`. First, let's build the embedding lookup table `C`. In the paper, they have $17000$ words and embed them in spaces as low-dimensional as $30$, so they cram $17000$ into a $30$-dimensional space. In our case, we have only $27$ possible characters, so let's cram them into as small as -let's say- a $2$-dimensional space:"
   ]
  },
  {
   "cell_type": "code",
   "execution_count": 9,
   "id": "37e69cef-cec3-45b7-b74a-95dec1cb60c2",
   "metadata": {},
   "outputs": [
    {
     "data": {
      "text/plain": [
       "tensor([[ 1.5674, -0.2373],\n",
       "        [-0.0274, -1.1008],\n",
       "        [ 0.2859, -0.0296],\n",
       "        [-1.5471,  0.6049],\n",
       "        [ 0.0791,  0.9046],\n",
       "        [-0.4713,  0.7868],\n",
       "        [-0.3284, -0.4330],\n",
       "        [ 1.3729,  2.9334],\n",
       "        [ 1.5618, -1.6261],\n",
       "        [ 0.6772, -0.8404],\n",
       "        [ 0.9849, -0.1484],\n",
       "        [-1.4795,  0.4483],\n",
       "        [-0.0707,  2.4968],\n",
       "        [ 2.4448, -0.6701],\n",
       "        [-1.2199,  0.3031],\n",
       "        [-1.0725,  0.7276],\n",
       "        [ 0.0511,  1.3095],\n",
       "        [-0.8022, -0.8504],\n",
       "        [-1.8068,  1.2523],\n",
       "        [ 0.1476, -1.0006],\n",
       "        [-0.5030, -1.0660],\n",
       "        [ 0.8480,  2.0275],\n",
       "        [-0.1158, -1.2078],\n",
       "        [-1.0406, -1.5367],\n",
       "        [-0.5132,  0.2961],\n",
       "        [-1.4904, -0.2838],\n",
       "        [ 0.2569,  0.2130]])"
      ]
     },
     "execution_count": 9,
     "metadata": {},
     "output_type": "execute_result"
    }
   ],
   "source": [
    "SEED = 2147483647\n",
    "g = torch.Generator().manual_seed(SEED)\n",
    "C = torch.randn((27, 2), generator=g)\n",
    "C"
   ]
  },
  {
   "cell_type": "markdown",
   "id": "20a13cae-0732-4585-ab17-ecef29aaf140",
   "metadata": {},
   "source": [
    "Each of our $27$ characters will have a $2$-dimensional embedding. Therefore, our table `C` will have $27$ rows (one for each character) and $2$ columns (number of dimensions per character embedding). Before we embed all the integers inside input `x` using this lookup table `C`, let's first embed a single, individual character, let's say, $5$, so we get a sense of how this works. One way to do it is to simply index the table using the character index:"
   ]
  },
  {
   "cell_type": "code",
   "execution_count": 10,
   "id": "18c83b3c-5e70-4d9f-ae29-8aa58b2c64aa",
   "metadata": {},
   "outputs": [
    {
     "data": {
      "text/plain": [
       "tensor([-0.4713,  0.7868])"
      ]
     },
     "execution_count": 10,
     "metadata": {},
     "output_type": "execute_result"
    }
   ],
   "source": [
    "C[5]"
   ]
  },
  {
   "cell_type": "markdown",
   "id": "5cee5abb-5de0-4ba7-b17f-717c167d2541",
   "metadata": {},
   "source": [
    "Another way, as we saw in the previous lesson, is to one-hot encode the character:"
   ]
  },
  {
   "cell_type": "code",
   "execution_count": 11,
   "id": "cc1545fc-a10f-488f-a5dd-d50890633c77",
   "metadata": {},
   "outputs": [
    {
     "name": "stdout",
     "output_type": "stream",
     "text": [
      "tensor([0, 0, 0, 0, 0, 1, 0, 0, 0, 0, 0, 0, 0, 0, 0, 0, 0, 0, 0, 0, 0, 0, 0, 0,\n",
      "        0, 0, 0])\n",
      "torch.Size([27])\n"
     ]
    }
   ],
   "source": [
    "ohv = F.one_hot(torch.tensor(5), num_classes=27)\n",
    "print(ohv)\n",
    "print(ohv.shape)"
   ]
  },
  {
   "cell_type": "markdown",
   "id": "35c8d608-b1f9-4740-8023-c82f2cd0fb2c",
   "metadata": {},
   "source": [
    "With this way we get a one-hot encoded representation whose $5$-th element is $1$ and all the rest are $0$. Now, notice how, just as we previously alluded to in the previous lesson, if we take this one-hot vector and we multiply it by `C`:"
   ]
  },
  {
   "cell_type": "code",
   "execution_count": 12,
   "id": "5010822a-a2f6-4c10-80ae-7e77e1908dd2",
   "metadata": {},
   "outputs": [
    {
     "data": {
      "text/plain": [
       "tensor([-0.4713,  0.7868])"
      ]
     },
     "execution_count": 12,
     "metadata": {},
     "output_type": "execute_result"
    }
   ],
   "source": [
    "ohv_matmul_C = ohv.float() @ C\n",
    "ohv_matmul_C"
   ]
  },
  {
   "cell_type": "markdown",
   "id": "3c31221f-954c-488b-b236-6b90c3696d5a",
   "metadata": {},
   "source": [
    "as you can see, they are identical:"
   ]
  },
  {
   "cell_type": "code",
   "execution_count": 13,
   "id": "4d36a866-3b05-41b7-b0a9-e70190107ab3",
   "metadata": {},
   "outputs": [],
   "source": [
    "assert C[5].equal(ohv_matmul_C)"
   ]
  },
  {
   "cell_type": "markdown",
   "id": "60c3ea3a-9e02-49c9-aea2-77b49ca3e7ab",
   "metadata": {},
   "source": [
    "Multiplying a one-hot encoded vector and an appropriate matrix acts like indexing that matrix with the index of the vector that points to element $1$! And so, we actually arrive at the same result. This is interesting since it points out how the first layer of this **nn** (see diagram above) can be thought of as a set of neurons whose weight matrix is `C`, when the inputs (the integer character indeces) are one-hot encoded. Note aside, in order to embed a character, we are just going to simply index the table as it's much faster:"
   ]
  },
  {
   "cell_type": "code",
   "execution_count": 14,
   "id": "39c29e2a-f4ec-4190-9782-fd3fcfc129b7",
   "metadata": {},
   "outputs": [
    {
     "data": {
      "text/plain": [
       "tensor([-0.4713,  0.7868])"
      ]
     },
     "execution_count": 14,
     "metadata": {},
     "output_type": "execute_result"
    }
   ],
   "source": [
    "C[5]"
   ]
  },
  {
   "cell_type": "markdown",
   "id": "ed5cfbf8-259e-40c7-b5af-f55e96d080eb",
   "metadata": {},
   "source": [
    "which is easy for a single character. But what if we want to index more simultaneously? That's also easy:"
   ]
  },
  {
   "cell_type": "code",
   "execution_count": 15,
   "id": "30db9717-1e45-4117-80f6-a53f0166770e",
   "metadata": {},
   "outputs": [
    {
     "data": {
      "text/plain": [
       "tensor([[-0.4713,  0.7868],\n",
       "        [-0.3284, -0.4330],\n",
       "        [ 1.3729,  2.9334]])"
      ]
     },
     "execution_count": 15,
     "metadata": {},
     "output_type": "execute_result"
    }
   ],
   "source": [
    "C[[5, 6, 7]]"
   ]
  },
  {
   "cell_type": "markdown",
   "id": "d03aac0e-c56d-4b46-98b2-1624e697177a",
   "metadata": {},
   "source": [
    "Cool! You can actually index a PyTorch tensor with a list or another tensor. Therefore, to easily get all character embeddings, we can simply do:"
   ]
  },
  {
   "cell_type": "code",
   "execution_count": 16,
   "id": "ddc52cd7-9569-4ce0-9b21-8636211051d4",
   "metadata": {},
   "outputs": [
    {
     "name": "stdout",
     "output_type": "stream",
     "text": [
      "tensor([[[ 1.5674, -0.2373],\n",
      "         [ 1.5674, -0.2373],\n",
      "         [-0.4713,  0.7868]],\n",
      "\n",
      "        [[ 1.5674, -0.2373],\n",
      "         [-0.4713,  0.7868],\n",
      "         [ 2.4448, -0.6701]],\n",
      "\n",
      "        [[-0.4713,  0.7868],\n",
      "         [ 2.4448, -0.6701],\n",
      "         [ 2.4448, -0.6701]],\n",
      "\n",
      "        [[ 2.4448, -0.6701],\n",
      "         [ 2.4448, -0.6701],\n",
      "         [-0.0274, -1.1008]],\n",
      "\n",
      "        [[ 2.4448, -0.6701],\n",
      "         [-0.0274, -1.1008],\n",
      "         [ 1.5674, -0.2373]],\n",
      "\n",
      "        [[ 1.5674, -0.2373],\n",
      "         [ 1.5674, -0.2373],\n",
      "         [-1.0725,  0.7276]],\n",
      "\n",
      "        [[ 1.5674, -0.2373],\n",
      "         [-1.0725,  0.7276],\n",
      "         [-0.0707,  2.4968]],\n",
      "\n",
      "        [[-1.0725,  0.7276],\n",
      "         [-0.0707,  2.4968],\n",
      "         [ 0.6772, -0.8404]],\n",
      "\n",
      "        [[-0.0707,  2.4968],\n",
      "         [ 0.6772, -0.8404],\n",
      "         [-0.1158, -1.2078]],\n",
      "\n",
      "        [[ 0.6772, -0.8404],\n",
      "         [-0.1158, -1.2078],\n",
      "         [ 0.6772, -0.8404]],\n",
      "\n",
      "        [[-0.1158, -1.2078],\n",
      "         [ 0.6772, -0.8404],\n",
      "         [-0.0274, -1.1008]],\n",
      "\n",
      "        [[ 0.6772, -0.8404],\n",
      "         [-0.0274, -1.1008],\n",
      "         [ 1.5674, -0.2373]],\n",
      "\n",
      "        [[ 1.5674, -0.2373],\n",
      "         [ 1.5674, -0.2373],\n",
      "         [-0.0274, -1.1008]],\n",
      "\n",
      "        [[ 1.5674, -0.2373],\n",
      "         [-0.0274, -1.1008],\n",
      "         [-0.1158, -1.2078]],\n",
      "\n",
      "        [[-0.0274, -1.1008],\n",
      "         [-0.1158, -1.2078],\n",
      "         [-0.0274, -1.1008]],\n",
      "\n",
      "        [[-0.1158, -1.2078],\n",
      "         [-0.0274, -1.1008],\n",
      "         [ 1.5674, -0.2373]],\n",
      "\n",
      "        [[ 1.5674, -0.2373],\n",
      "         [ 1.5674, -0.2373],\n",
      "         [ 0.6772, -0.8404]],\n",
      "\n",
      "        [[ 1.5674, -0.2373],\n",
      "         [ 0.6772, -0.8404],\n",
      "         [ 0.1476, -1.0006]],\n",
      "\n",
      "        [[ 0.6772, -0.8404],\n",
      "         [ 0.1476, -1.0006],\n",
      "         [-0.0274, -1.1008]],\n",
      "\n",
      "        [[ 0.1476, -1.0006],\n",
      "         [-0.0274, -1.1008],\n",
      "         [ 0.2859, -0.0296]],\n",
      "\n",
      "        [[-0.0274, -1.1008],\n",
      "         [ 0.2859, -0.0296],\n",
      "         [-0.4713,  0.7868]],\n",
      "\n",
      "        [[ 0.2859, -0.0296],\n",
      "         [-0.4713,  0.7868],\n",
      "         [-0.0707,  2.4968]],\n",
      "\n",
      "        [[-0.4713,  0.7868],\n",
      "         [-0.0707,  2.4968],\n",
      "         [-0.0707,  2.4968]],\n",
      "\n",
      "        [[-0.0707,  2.4968],\n",
      "         [-0.0707,  2.4968],\n",
      "         [-0.0274, -1.1008]],\n",
      "\n",
      "        [[-0.0707,  2.4968],\n",
      "         [-0.0274, -1.1008],\n",
      "         [ 1.5674, -0.2373]],\n",
      "\n",
      "        [[ 1.5674, -0.2373],\n",
      "         [ 1.5674, -0.2373],\n",
      "         [ 0.1476, -1.0006]],\n",
      "\n",
      "        [[ 1.5674, -0.2373],\n",
      "         [ 0.1476, -1.0006],\n",
      "         [-1.0725,  0.7276]],\n",
      "\n",
      "        [[ 0.1476, -1.0006],\n",
      "         [-1.0725,  0.7276],\n",
      "         [ 0.0511,  1.3095]],\n",
      "\n",
      "        [[-1.0725,  0.7276],\n",
      "         [ 0.0511,  1.3095],\n",
      "         [ 1.5618, -1.6261]],\n",
      "\n",
      "        [[ 0.0511,  1.3095],\n",
      "         [ 1.5618, -1.6261],\n",
      "         [ 0.6772, -0.8404]],\n",
      "\n",
      "        [[ 1.5618, -1.6261],\n",
      "         [ 0.6772, -0.8404],\n",
      "         [-0.0274, -1.1008]],\n",
      "\n",
      "        [[ 0.6772, -0.8404],\n",
      "         [-0.0274, -1.1008],\n",
      "         [ 1.5674, -0.2373]]])\n",
      "torch.Size([32, 3, 2])\n"
     ]
    }
   ],
   "source": [
    "emb = C[x]\n",
    "print(emb)\n",
    "print(emb.shape)"
   ]
  },
  {
   "cell_type": "markdown",
   "id": "7a91c46d-4ff7-46e6-bf66-c06782fa1318",
   "metadata": {},
   "source": [
    "Notice the shape: `[<number of character input sets>, <input size>, <number of character embedding dimensions>]`. Indexing as following, we can assert that both ways of representation are valid:"
   ]
  },
  {
   "cell_type": "code",
   "execution_count": 17,
   "id": "72ce3d00-491f-4ae1-8793-cd3e4cdf64e0",
   "metadata": {},
   "outputs": [],
   "source": [
    "assert emb[13, 2].equal(C[x[13, 2]])"
   ]
  },
  {
   "cell_type": "markdown",
   "id": "752ae4f3-7327-4fc7-a721-9c2dfc0b529d",
   "metadata": {},
   "source": [
    "Long story short, PyTorch indexing is awesome and tensors such as embedding tables can be indexed by other tensors, e.g. inputs. One last thing, as far as the first layer is concerned. Since each embedding of our `3` inputs has `2` dimensions, the output dimension of our first layer is basically $3 \\cdot 2 = 6$. Usually, a **nn** layer is described by a pair of input and output dimensions. The input dimension of our first, embeddings layer is $32$ (`<number of character inputs>`). To get the output dimension we have to concatenate the following `<inputs size>` and `<number of character embedding dimensions>` tensor dimensions into one dimension:"
   ]
  },
  {
   "cell_type": "code",
   "execution_count": 18,
   "id": "b421b2c8-16cd-4941-b247-6f935e4ec645",
   "metadata": {},
   "outputs": [
    {
     "data": {
      "text/plain": [
       "torch.Size([32, 6])"
      ]
     },
     "execution_count": 18,
     "metadata": {},
     "output_type": "execute_result"
    }
   ],
   "source": [
    "last_dims = emb.shape[1:]  # get dimensions after the first one\n",
    "last_dims_product = torch.prod(torch.tensor(last_dims)).item()  # multiply them\n",
    "emb_proper = emb.view(-1, last_dims_product)\n",
    "emb_proper.shape  # tada!"
   ]
  },
  {
   "cell_type": "markdown",
   "id": "94535878-8d80-4851-a19c-d9d0254f577c",
   "metadata": {},
   "source": [
    "We have prepared the dimensionality of the first layer. Now, let's implement the hidden, second layer:"
   ]
  },
  {
   "cell_type": "code",
   "execution_count": 19,
   "id": "0546cf09-6973-4f21-bfa0-ed91743e24fd",
   "metadata": {},
   "outputs": [
    {
     "name": "stdout",
     "output_type": "stream",
     "text": [
      "torch.Size([6, 100])\n",
      "torch.Size([100])\n"
     ]
    }
   ],
   "source": [
    "l0out = emb_proper.shape[-1]\n",
    "l1in = l0out\n",
    "l1out = 100  # neurons of hidden layer\n",
    "w1 = torch.randn(l1in, l1out, generator=g)\n",
    "b1 = torch.randn(l1out, generator=g)\n",
    "print(w1.shape)\n",
    "print(b1.shape)"
   ]
  },
  {
   "cell_type": "code",
   "execution_count": 20,
   "id": "14151980-2b0a-496e-8a8b-f193f5a63385",
   "metadata": {},
   "outputs": [
    {
     "data": {
      "text/plain": [
       "tensor([[ 0.2797,  0.9997,  0.7675,  ...,  0.9929,  0.9992,  0.9981],\n",
       "        [-0.9960,  1.0000, -0.8694,  ..., -0.5159, -1.0000, -0.0069],\n",
       "        [-0.9968,  1.0000,  0.9878,  ...,  0.4976, -0.9297, -0.8616],\n",
       "        ...,\n",
       "        [-0.9043,  1.0000,  0.9868,  ..., -0.7859, -0.4819,  0.9981],\n",
       "        [-0.9048,  1.0000,  0.9553,  ...,  0.9866,  1.0000,  0.9907],\n",
       "        [-0.9868,  1.0000,  0.5264,  ...,  0.9843,  0.0223, -0.1655]])"
      ]
     },
     "execution_count": 20,
     "metadata": {},
     "output_type": "execute_result"
    }
   ],
   "source": [
    "h = torch.tanh(emb_proper @ w1 + b1)\n",
    "h"
   ]
  },
  {
   "cell_type": "code",
   "execution_count": 21,
   "id": "83cb44db-df95-49cf-9373-8ed90debff0e",
   "metadata": {},
   "outputs": [
    {
     "data": {
      "text/plain": [
       "torch.Size([32, 100])"
      ]
     },
     "execution_count": 21,
     "metadata": {},
     "output_type": "execute_result"
    }
   ],
   "source": [
    "h.shape"
   ]
  },
  {
   "cell_type": "markdown",
   "id": "51297169-cacc-4115-ac84-2047170bc8e6",
   "metadata": {},
   "source": [
    "Done! And now, to create the output layer:"
   ]
  },
  {
   "cell_type": "code",
   "execution_count": 22,
   "id": "dbebc43b-4e1d-45e4-8027-15e6b3c091b9",
   "metadata": {},
   "outputs": [
    {
     "name": "stdout",
     "output_type": "stream",
     "text": [
      "torch.Size([100, 27])\n",
      "torch.Size([27])\n"
     ]
    }
   ],
   "source": [
    "l2in = l1out\n",
    "l2out = 27  # number of characters\n",
    "w2 = torch.randn(l2in, l2out, generator=g)\n",
    "b2 = torch.randn(l2out, generator=g)\n",
    "print(w2.shape)\n",
    "print(b2.shape)"
   ]
  },
  {
   "cell_type": "code",
   "execution_count": 23,
   "id": "6a3876b0-d2b9-4dc9-aa3f-7868a6f52e02",
   "metadata": {},
   "outputs": [
    {
     "data": {
      "text/plain": [
       "torch.Size([32, 27])"
      ]
     },
     "execution_count": 23,
     "metadata": {},
     "output_type": "execute_result"
    }
   ],
   "source": [
    "logits = h @ w2 + b2\n",
    "logits.shape"
   ]
  },
  {
   "cell_type": "markdown",
   "id": "6a92aabb-1863-4211-bca4-db19f931bd26",
   "metadata": {},
   "source": [
    "Exactly as we saw in the previous lesson, we want to take these logits and we want to first exponentiate them to get our fake counts. Then, we want to normalize them to get the probabilities of how likely it is for each character to come next:"
   ]
  },
  {
   "cell_type": "code",
   "execution_count": 24,
   "id": "c8c092bf-a37f-45ed-a55e-8a2b31521215",
   "metadata": {},
   "outputs": [
    {
     "data": {
      "text/plain": [
       "torch.Size([32, 27])"
      ]
     },
     "execution_count": 24,
     "metadata": {},
     "output_type": "execute_result"
    }
   ],
   "source": [
    "counts = logits.exp()\n",
    "prob = counts / counts.sum(1, keepdims=True)\n",
    "prob.shape"
   ]
  },
  {
   "cell_type": "markdown",
   "id": "530e76b1-4239-43f7-8813-a8d4499162a9",
   "metadata": {},
   "source": [
    "Remember, we also have the the target values `y`, the actual characters that come next that we would like our **nn** to be able to predict:"
   ]
  },
  {
   "cell_type": "code",
   "execution_count": 25,
   "id": "3cae6932-4d7e-4610-9afe-1da9c454ec06",
   "metadata": {},
   "outputs": [
    {
     "data": {
      "text/plain": [
       "tensor([ 5, 13, 13,  1,  0, 15, 12,  9, 22,  9,  1,  0,  1, 22,  1,  0,  9, 19,\n",
       "         1,  2,  5, 12, 12,  1,  0, 19, 15, 16,  8,  9,  1,  0])"
      ]
     },
     "execution_count": 25,
     "metadata": {},
     "output_type": "execute_result"
    }
   ],
   "source": [
    "y"
   ]
  },
  {
   "cell_type": "markdown",
   "id": "f98ec84e-f6eb-4a8a-a165-1a2b3efb2c74",
   "metadata": {},
   "source": [
    "So, what we would like to do now is index into the rows of `prob` and for each row to pluck out the probability given to the correct character:"
   ]
  },
  {
   "cell_type": "code",
   "execution_count": 26,
   "id": "e5c84e96-b259-4e07-8f4e-6ba6ac2d7a64",
   "metadata": {},
   "outputs": [
    {
     "data": {
      "text/plain": [
       "tensor([9.9994e-12, 1.9647e-08, 4.0322e-07, 3.0845e-09, 4.6517e-11, 7.4238e-12,\n",
       "        2.0297e-09, 9.9179e-01, 1.7138e-02, 3.2410e-03, 2.8552e-06, 1.0565e-06,\n",
       "        2.6391e-09, 4.1804e-06, 3.5843e-08, 7.7737e-07, 3.5022e-02, 2.7425e-10,\n",
       "        1.7086e-08, 6.3572e-02, 1.1315e-08, 1.6961e-09, 2.1885e-11, 1.5201e-10,\n",
       "        1.0528e-03, 3.6704e-08, 9.5847e-02, 3.1954e-12, 8.5695e-17, 2.5576e-03,\n",
       "        9.1782e-12, 1.0565e-06])"
      ]
     },
     "execution_count": 26,
     "metadata": {},
     "output_type": "execute_result"
    }
   ],
   "source": [
    "prob[range(len(y)), y]"
   ]
  },
  {
   "cell_type": "markdown",
   "id": "41504c68-e49f-4e8d-909d-6969b999558b",
   "metadata": {},
   "source": [
    "This gives the current probabilities for these specific correct, target characters that come next after each character sequence, given the current **nn** configuration (weights and biases). Currently these probabilities are pretty bad and most characters are pretty unlikely to occur next. Of course, we haven't trained the **nn** yet. So, we want to train it so that each probability approximates `1`. As we saw previously, to do so, we have to define the **loss** and then minimize it:"
   ]
  },
  {
   "cell_type": "code",
   "execution_count": 27,
   "id": "aa8e1daf-6e94-4267-ba68-37edc26ec1c6",
   "metadata": {},
   "outputs": [
    {
     "data": {
      "text/plain": [
       "tensor(16.0342)"
      ]
     },
     "execution_count": 27,
     "metadata": {},
     "output_type": "execute_result"
    }
   ],
   "source": [
    "loss = -prob[range(len(y)), y].log().mean()\n",
    "loss"
   ]
  },
  {
   "cell_type": "markdown",
   "id": "b1ce15c3-0f68-4441-85fc-81f3649ce1cd",
   "metadata": {},
   "source": [
    "Pretty big loss! Haha. Now we will minimize it so our **nn** able to predict the next character in each sequence correctly. To do so, we have to optimize the parameters. Let's define a function that defines them and collects them all into a list just so we have easy access:"
   ]
  },
  {
   "cell_type": "code",
   "execution_count": 28,
   "id": "83d11060-e871-43c5-aabf-d13d3eaba420",
   "metadata": {},
   "outputs": [
    {
     "name": "stdout",
     "output_type": "stream",
     "text": [
      "torch.Size([182625, 3]) torch.Size([182625])\n",
      "torch.Size([22655, 3]) torch.Size([22655])\n",
      "torch.Size([22866, 3]) torch.Size([22866])\n"
     ]
    },
    {
     "data": {
      "text/plain": [
       "3481"
      ]
     },
     "execution_count": 28,
     "metadata": {},
     "output_type": "execute_result"
    }
   ],
   "source": [
    "import random\n",
    "\n",
    "# context length: how many characters do we take to predict the next one?\n",
    "block_size = 3\n",
    "\n",
    "\n",
    "# build the dataset\n",
    "def build_dataset(words):\n",
    "    X, Y = [], []\n",
    "    for w in words:\n",
    "        # print(w)\n",
    "        context = [0] * block_size\n",
    "        for ch in w + \".\":\n",
    "            ix = ctoi[ch]\n",
    "            X.append(context)\n",
    "            Y.append(ix)\n",
    "            # print(''.join(itos[i] for i in context), '--->', itos[ix])\n",
    "            context = context[1:] + [ix]  # crop and append\n",
    "\n",
    "    X = torch.tensor(X)\n",
    "    Y = torch.tensor(Y)\n",
    "    print(X.shape, Y.shape)\n",
    "    return X, Y\n",
    "\n",
    "\n",
    "random.seed(42)\n",
    "random.shuffle(words)\n",
    "n1 = int(0.8 * len(words))\n",
    "n2 = int(0.9 * len(words))\n",
    "\n",
    "Xtr, Ytr = build_dataset(words[:n1])\n",
    "Xdev, Ydev = build_dataset(words[n1:n2])\n",
    "Xte, Yte = build_dataset(words[n2:])\n",
    "\n",
    "\n",
    "def define_nn(l1out=100, embsize=2):\n",
    "    global C, w1, b1, w2, b2\n",
    "    g = torch.Generator().manual_seed(SEED)\n",
    "    C = torch.randn((27, embsize), generator=g)\n",
    "    l1in = embsize * block_size\n",
    "    # l1out: neurons of hidden layer\n",
    "    w1 = torch.randn(l1in, l1out, generator=g)\n",
    "    b1 = torch.randn(l1out, generator=g)\n",
    "    l2in = l1out\n",
    "    l2out = 27  # neurons of output layer, number of characters\n",
    "    w2 = torch.randn(l2in, l2out, generator=g)\n",
    "    b2 = torch.randn(l2out, generator=g)\n",
    "    parameters = [C, w1, b1, w2, b2]\n",
    "    return parameters\n",
    "\n",
    "\n",
    "parameters = define_nn()\n",
    "sum(p.nelement() for p in parameters)"
   ]
  },
  {
   "cell_type": "markdown",
   "id": "1bf2fe85-547f-40b3-b0d6-12202f5450fc",
   "metadata": {},
   "source": [
    "To recap the forward pass:"
   ]
  },
  {
   "cell_type": "code",
   "execution_count": 29,
   "id": "e4b6f850-489f-452f-84a1-e13f60b9cc85",
   "metadata": {},
   "outputs": [
    {
     "data": {
      "text/plain": [
       "tensor(16.0342)"
      ]
     },
     "execution_count": 29,
     "metadata": {},
     "output_type": "execute_result"
    }
   ],
   "source": [
    "emb = C[x]  # [32, 3, 2]\n",
    "last_dims = emb.shape[1:]  # get dimensions after the first one\n",
    "last_dims_product = torch.prod(torch.tensor(last_dims)).item()  # multiply them\n",
    "emb_proper = emb.view(-1, last_dims_product)  # [32, 6]\n",
    "h = torch.tanh(emb_proper @ w1 + b1)  # [32, 100]\n",
    "logits = h @ w2 + b2  # [32, 27]\n",
    "counts = logits.exp()\n",
    "prob = counts / counts.sum(1, keepdims=True)\n",
    "loss = -prob[range(len(y)), y].log().mean()\n",
    "loss"
   ]
  },
  {
   "cell_type": "markdown",
   "id": "6339f2b3-9cfa-4f0b-81cc-06e67d64d111",
   "metadata": {},
   "source": [
    "A better and more efficient way to calculate the **loss** from logits and targets is through the [cross entropy loss function](https://pytorch.org/docs/stable/generated/torch.nn.functional.cross_entropy.html):"
   ]
  },
  {
   "cell_type": "code",
   "execution_count": 30,
   "id": "34a4f3e0-f273-4144-8935-5c181e620641",
   "metadata": {},
   "outputs": [
    {
     "data": {
      "text/plain": [
       "tensor(16.0342)"
      ]
     },
     "execution_count": 30,
     "metadata": {},
     "output_type": "execute_result"
    }
   ],
   "source": [
    "F.cross_entropy(logits, y)"
   ]
  },
  {
   "cell_type": "markdown",
   "id": "91ee465a-df2f-4f26-bf54-e641867e2eb3",
   "metadata": {},
   "source": [
    "Let's tidy up the forward pass:"
   ]
  },
  {
   "cell_type": "code",
   "execution_count": 31,
   "id": "b00a2709-9119-4df1-b64f-cd39acd0058e",
   "metadata": {},
   "outputs": [],
   "source": [
    "def forward_pass(x, y):\n",
    "    emb = C[x]  # [32, 3, 2]\n",
    "    last_dims = emb.shape[1:]  # get dimensions after the first one\n",
    "    last_dims_product = torch.prod(torch.tensor(last_dims)).item()  # multiply them\n",
    "    emb_proper = emb.view(-1, last_dims_product)  # [32, 6]\n",
    "    h = torch.tanh(emb_proper @ w1 + b1)  # [32, 100]\n",
    "    logits = h @ w2 + b2  # [32, 27]\n",
    "    loss = F.cross_entropy(logits, y)\n",
    "    return loss"
   ]
  },
  {
   "cell_type": "markdown",
   "id": "dfde0ad6",
   "metadata": {},
   "source": [
    "## Training the model"
   ]
  },
  {
   "cell_type": "markdown",
   "id": "34d2e7dc-ad53-43ce-8d76-7f20c0fdd12b",
   "metadata": {},
   "source": [
    "And now, let's train our **nn**:"
   ]
  },
  {
   "cell_type": "code",
   "execution_count": 32,
   "id": "3aeeb3d9-3299-46f7-a00a-77c173687b8b",
   "metadata": {
    "tags": []
   },
   "outputs": [],
   "source": [
    "def train(x, y, epochs=10):\n",
    "    parameters = define_nn()\n",
    "    for p in parameters:\n",
    "        p.requires_grad = True\n",
    "    for _ in range(epochs):\n",
    "        loss = forward_pass(x, y)\n",
    "        print(loss.item())\n",
    "        for p in parameters:\n",
    "            p.grad = None\n",
    "        loss.backward()\n",
    "        for p in parameters:\n",
    "            p.data += -0.1 * p.grad"
   ]
  },
  {
   "cell_type": "code",
   "execution_count": 33,
   "id": "91ec7cd3-a888-4a8a-b29d-6f049e2025f7",
   "metadata": {},
   "outputs": [
    {
     "name": "stdout",
     "output_type": "stream",
     "text": [
      "16.034189224243164\n",
      "11.740133285522461\n",
      "9.195296287536621\n",
      "7.302927017211914\n",
      "5.805147647857666\n",
      "4.850736618041992\n",
      "4.184849739074707\n",
      "3.644319534301758\n",
      "3.207334518432617\n",
      "2.843700885772705\n"
     ]
    }
   ],
   "source": [
    "train(x, y)"
   ]
  },
  {
   "cell_type": "markdown",
   "id": "e2d94bc3-295f-460f-87bd-70740f946bba",
   "metadata": {},
   "source": [
    "The **loss** keeps decreasing, which means that the training process is working! Now, since we are only training using a dataset of $5$ words, and since our parameters are many more than the samples we are training on, our **nn** is probably overfitting. What we have to do now, is train on the whole dataset."
   ]
  },
  {
   "cell_type": "code",
   "execution_count": 34,
   "id": "1270714d-2216-4d92-80e4-c11acfe6c9fe",
   "metadata": {},
   "outputs": [
    {
     "name": "stdout",
     "output_type": "stream",
     "text": [
      "torch.Size([228146, 3]) torch.Size([228146])\n"
     ]
    }
   ],
   "source": [
    "x_all, y_all = build_dataset(words)"
   ]
  },
  {
   "cell_type": "code",
   "execution_count": 35,
   "id": "482b2243-ff34-4e58-8276-f3aa703a543f",
   "metadata": {},
   "outputs": [
    {
     "name": "stdout",
     "output_type": "stream",
     "text": [
      "19.505229949951172\n",
      "17.084487915039062\n",
      "15.776533126831055\n",
      "14.83334732055664\n",
      "14.002612113952637\n",
      "13.253267288208008\n",
      "12.579923629760742\n",
      "11.983108520507812\n",
      "11.470502853393555\n",
      "11.05186653137207\n"
     ]
    }
   ],
   "source": [
    "train(x_all, y_all)"
   ]
  },
  {
   "cell_type": "markdown",
   "id": "374585d9-83c3-4b9d-9ae3-e0649def8fd6",
   "metadata": {},
   "source": [
    "Same, the loss for all input samples also keeps decreasing. But, you'll notice that training takes longer now. This is happening because we are doing a lot of work, forward and backward passing on $228146$ examples. That's way too much work! In practice, what people usually do in such cases is they train on minibatches of the whole dataset. So, what we want to do, is we want to randomly select some portion of the dataset, and that's a minibatch! And then, only forward, backward and update on that minibatch, likewise iterate and train on those minibatches. A simple way to implement minibatching is to set a batch size, e.g.:"
   ]
  },
  {
   "cell_type": "code",
   "execution_count": 36,
   "id": "e2fd3752-df7e-4410-9021-e330ac9b1d4b",
   "metadata": {},
   "outputs": [],
   "source": [
    "batchsize = 32"
   ]
  },
  {
   "cell_type": "markdown",
   "id": "eda99949-e6b6-45a5-a727-96b10b6e3818",
   "metadata": {},
   "source": [
    "and then to randomly select `batchsize` number of indeces referencing the subset of input data to be used for minibatch training. To get the indeces you can do something like this:"
   ]
  },
  {
   "cell_type": "code",
   "execution_count": 37,
   "id": "032b2988-2332-49d3-85d2-8a80d465a655",
   "metadata": {},
   "outputs": [
    {
     "name": "stdout",
     "output_type": "stream",
     "text": [
      "tensor([ 74679, 122216,  57092, 133769, 226181,  38045, 126099,  23446, 218663,\n",
      "         17662, 225764, 199486, 185049,  64041, 217855, 198821, 192633,  84825,\n",
      "         44722,  46171, 182390,  99196, 102624,    409, 168159, 182770, 142590,\n",
      "        173184,  86521,   1596, 158516, 206175])\n"
     ]
    }
   ],
   "source": [
    "batchix = torch.randint(0, x_all.shape[0], (batchsize,))\n",
    "print(batchix)"
   ]
  },
  {
   "cell_type": "markdown",
   "id": "f0e3a51f-221a-4350-8c6b-0c908764bcc7",
   "metadata": {},
   "source": [
    "Then, to actually get a minibatch per epoch, just create a new, random set of indeces and index the samples and targets from the dataset before each forward pass. Like this:"
   ]
  },
  {
   "cell_type": "code",
   "execution_count": 38,
   "id": "56bde375-4042-4e5a-90a8-44e4086f4b3a",
   "metadata": {},
   "outputs": [],
   "source": [
    "def train(x, y, lr=0.1, epochs=10, print_all_losses=True):\n",
    "    parameters = define_nn()\n",
    "    for p in parameters:\n",
    "        p.requires_grad = True\n",
    "    for _ in range(epochs):\n",
    "        batchix = torch.randint(0, x.shape[0], (batchsize,))\n",
    "        bx, by = x[batchix], y[batchix]\n",
    "        loss = forward_pass(bx, by)\n",
    "        if print_all_losses:\n",
    "            print(loss.item())\n",
    "        for p in parameters:\n",
    "            p.grad = None\n",
    "        loss.backward()\n",
    "        for p in parameters:\n",
    "            p.data += -lr * p.grad\n",
    "    if not print_all_losses:\n",
    "        print(loss.item())\n",
    "    return loss.item()"
   ]
  },
  {
   "cell_type": "markdown",
   "id": "9658a162-9fa0-4d7f-8e9c-a8e9e63fe4c0",
   "metadata": {},
   "source": [
    "Now, if we train using minibatches..."
   ]
  },
  {
   "cell_type": "code",
   "execution_count": 39,
   "id": "6993d1fc-0924-4ee3-b902-021374dfc377",
   "metadata": {},
   "outputs": [
    {
     "name": "stdout",
     "output_type": "stream",
     "text": [
      "17.94289779663086\n",
      "15.889695167541504\n",
      "15.060649871826172\n",
      "13.832050323486328\n",
      "16.023155212402344\n",
      "14.010979652404785\n",
      "16.336170196533203\n",
      "13.788375854492188\n",
      "11.292967796325684\n",
      "13.045702934265137\n"
     ]
    },
    {
     "data": {
      "text/plain": [
       "13.045702934265137"
      ]
     },
     "execution_count": 39,
     "metadata": {},
     "output_type": "execute_result"
    }
   ],
   "source": [
    "train(x_all, y_all)"
   ]
  },
  {
   "cell_type": "markdown",
   "id": "566f6c3a-13e7-44db-afa3-ed3dc13405ec",
   "metadata": {},
   "source": [
    "training is much much faster, almost instant! However, since we are dealing with minibatches, the quality of our gradient is lower, so the direction is not as reliable. It's not the actual exact gradient direction, but the gradient direction is good enough even though it's being estimated for only `batchsize` (e.g. `32`) examples. In general, it is better to have an approximate gradient and just make more steps than it is to compute the exact gradient and take fewer steps. And that is why in practice, minibatching works quite well."
   ]
  },
  {
   "cell_type": "markdown",
   "id": "c5b1b1c1",
   "metadata": {},
   "source": [
    "## Finding a good learning rate"
   ]
  },
  {
   "cell_type": "markdown",
   "id": "ff7966a3",
   "metadata": {},
   "source": [
    "Now, one issue that has popped up as you may have noticed, is that during minibatch training the **loss** seems to fluctuate. For some epochs it decreases, but then it increases again, and vice versa. That question that arises from this observation is this: are we stepping too slow or too fast? Meaning, are we updating the parameters by a fraction of their gradients that is too small or too large? Such magnitude is determined by the step size, aka the learning rate. Therefore, the overarching question is: how do you determine this learning rate? How do we gain confidence that we are stepping with the right speed? Let's see one way to determine the learning rate. We basically want to find a reasonable search range, if you will. What people usually do is they pick different learning rate values until they find a satisfactory one. Let's try to find one that is better. We see for example if it is very small:"
   ]
  },
  {
   "cell_type": "code",
   "execution_count": 40,
   "id": "9fe09a23-35a6-48ac-8bd9-0de889ab6bdb",
   "metadata": {},
   "outputs": [
    {
     "name": "stdout",
     "output_type": "stream",
     "text": [
      "21.48345375061035\n",
      "17.693952560424805\n",
      "20.993595123291016\n",
      "19.23766326904297\n",
      "17.807458877563477\n",
      "19.426368713378906\n",
      "20.208740234375\n",
      "21.426673889160156\n",
      "20.107091903686523\n",
      "16.44301986694336\n",
      "16.98691749572754\n",
      "16.693296432495117\n",
      "16.654979705810547\n",
      "18.207632064819336\n",
      "20.281587600708008\n",
      "19.277870178222656\n",
      "19.782976150512695\n",
      "20.056819915771484\n",
      "19.198200225830078\n",
      "15.863028526306152\n",
      "18.550344467163086\n",
      "19.435653686523438\n",
      "19.682138442993164\n",
      "17.305164337158203\n",
      "21.181236267089844\n",
      "19.23027992248535\n",
      "18.67540168762207\n",
      "18.95297622680664\n",
      "21.35270881652832\n",
      "21.46781349182129\n",
      "21.018564224243164\n",
      "20.318994522094727\n",
      "21.243608474731445\n",
      "19.62767791748047\n",
      "19.476289749145508\n",
      "17.74656867980957\n",
      "20.23328399658203\n",
      "20.085819244384766\n",
      "16.801542282104492\n",
      "18.122915267944336\n",
      "19.09043312072754\n",
      "19.84799575805664\n",
      "20.199235916137695\n",
      "16.658361434936523\n",
      "19.510778427124023\n",
      "19.398319244384766\n",
      "18.517004013061523\n",
      "19.53419303894043\n",
      "22.490541458129883\n",
      "20.45920753479004\n",
      "17.721420288085938\n",
      "18.58787727355957\n",
      "20.76034927368164\n",
      "20.696556091308594\n",
      "18.54053497314453\n",
      "19.546337127685547\n",
      "15.577354431152344\n",
      "18.100522994995117\n",
      "15.600821495056152\n",
      "21.15610122680664\n",
      "20.79819107055664\n",
      "18.512712478637695\n",
      "17.394367218017578\n",
      "15.756057739257812\n",
      "21.389039993286133\n",
      "16.85922622680664\n",
      "13.484357833862305\n",
      "19.010683059692383\n",
      "18.83637046813965\n",
      "19.841796875\n",
      "18.28095054626465\n",
      "20.777664184570312\n",
      "19.818172454833984\n",
      "18.778358459472656\n",
      "20.82563591003418\n",
      "19.217248916625977\n",
      "18.208587646484375\n",
      "19.463356018066406\n",
      "16.181228637695312\n",
      "16.927345275878906\n",
      "18.849687576293945\n",
      "19.017803192138672\n",
      "18.24212074279785\n",
      "20.15293312072754\n",
      "19.38414764404297\n",
      "19.442598342895508\n",
      "22.70920181274414\n",
      "19.071269989013672\n",
      "17.25360679626465\n",
      "16.035856246948242\n",
      "19.327434539794922\n",
      "20.848506927490234\n",
      "19.198562622070312\n",
      "18.62538719177246\n",
      "20.031288146972656\n",
      "22.616220474243164\n",
      "18.733247756958008\n",
      "20.26487159729004\n",
      "18.593149185180664\n",
      "24.60611343383789\n"
     ]
    },
    {
     "data": {
      "text/plain": [
       "24.60611343383789"
      ]
     },
     "execution_count": 40,
     "metadata": {},
     "output_type": "execute_result"
    }
   ],
   "source": [
    "train(x_all, y_all, lr=0.0001, epochs=100)"
   ]
  },
  {
   "cell_type": "markdown",
   "id": "bf4398e5-bb18-4d4d-a3dc-3a8a4948ce80",
   "metadata": {},
   "source": [
    "The loss barely decreases. So this value is too low. Let's try something bigger, e.g."
   ]
  },
  {
   "cell_type": "code",
   "execution_count": 41,
   "id": "7f3f8604-8f8b-4b95-9961-74fa873d7456",
   "metadata": {},
   "outputs": [
    {
     "name": "stdout",
     "output_type": "stream",
     "text": [
      "20.843355178833008\n",
      "21.689167022705078\n",
      "19.067970275878906\n",
      "17.899921417236328\n",
      "20.831283569335938\n",
      "21.015792846679688\n",
      "21.317489624023438\n",
      "18.584075927734375\n",
      "19.30166244506836\n",
      "17.16819190979004\n",
      "20.15867805480957\n",
      "18.009313583374023\n",
      "22.017822265625\n",
      "18.148967742919922\n",
      "17.53749656677246\n",
      "19.633005142211914\n",
      "17.75607681274414\n",
      "17.64638900756836\n",
      "18.511669158935547\n",
      "20.743165969848633\n",
      "18.751705169677734\n",
      "18.893756866455078\n",
      "19.241785049438477\n",
      "19.387001037597656\n",
      "18.413681030273438\n",
      "20.803842544555664\n",
      "18.513309478759766\n",
      "20.150976181030273\n",
      "19.927082061767578\n",
      "20.02385711669922\n",
      "19.09459686279297\n",
      "16.731922149658203\n",
      "19.16921615600586\n",
      "19.426868438720703\n",
      "17.71548843383789\n",
      "17.51811408996582\n",
      "18.333765029907227\n",
      "20.96685028076172\n",
      "19.99691390991211\n",
      "19.345508575439453\n",
      "19.923913955688477\n",
      "16.887836456298828\n",
      "17.372751235961914\n",
      "18.805681228637695\n",
      "18.897857666015625\n",
      "16.86487579345703\n",
      "17.781234741210938\n",
      "20.2587833404541\n",
      "17.451217651367188\n",
      "18.460481643676758\n",
      "17.9292049407959\n",
      "20.8989315032959\n",
      "20.129817962646484\n",
      "17.018564224243164\n",
      "19.071075439453125\n",
      "15.609376907348633\n",
      "18.350452423095703\n",
      "14.199233055114746\n",
      "18.659013748168945\n",
      "17.954235076904297\n",
      "17.826528549194336\n",
      "18.58924102783203\n",
      "17.669662475585938\n",
      "16.46000862121582\n",
      "15.66697883605957\n",
      "17.6021785736084\n",
      "17.65107536315918\n",
      "16.883989334106445\n",
      "14.59417724609375\n",
      "16.17646026611328\n",
      "18.381986618041992\n",
      "19.10284423828125\n",
      "15.856918334960938\n",
      "18.458749771118164\n",
      "18.598033905029297\n",
      "17.683555603027344\n",
      "17.749269485473633\n",
      "17.12112808227539\n",
      "20.2098445892334\n",
      "18.316301345825195\n",
      "16.487417221069336\n",
      "14.472514152526855\n",
      "16.50566864013672\n",
      "19.501144409179688\n",
      "18.444271087646484\n",
      "17.818748474121094\n",
      "12.876835823059082\n",
      "17.16472816467285\n",
      "15.761727333068848\n",
      "18.426593780517578\n",
      "17.760990142822266\n",
      "18.603355407714844\n",
      "16.690837860107422\n",
      "16.553945541381836\n",
      "15.75294303894043\n",
      "17.358163833618164\n",
      "16.67896842956543\n",
      "17.08140754699707\n",
      "18.213592529296875\n",
      "17.534658432006836\n"
     ]
    },
    {
     "data": {
      "text/plain": [
       "17.534658432006836"
      ]
     },
     "execution_count": 41,
     "metadata": {},
     "output_type": "execute_result"
    }
   ],
   "source": [
    "train(x_all, y_all, lr=0.001, epochs=100)"
   ]
  },
  {
   "cell_type": "markdown",
   "id": "35fd55b8-b02f-4ca4-b85d-79f1595396d5",
   "metadata": {},
   "source": [
    "This is ok, but still not good enough. The **loss** value decreases but not steadily and fluctuates a lot. For an even bigger value:"
   ]
  },
  {
   "cell_type": "code",
   "execution_count": 42,
   "id": "d0755e3e-2c10-49e1-bd75-acfa0f1c4cec",
   "metadata": {},
   "outputs": [
    {
     "name": "stdout",
     "output_type": "stream",
     "text": [
      "18.0602970123291\n",
      "15.639816284179688\n",
      "14.974983215332031\n",
      "16.521020889282227\n",
      "10.994373321533203\n",
      "19.934722900390625\n",
      "13.230535507202148\n",
      "10.555554389953613\n",
      "11.227700233459473\n",
      "8.685490608215332\n",
      "11.373151779174805\n",
      "9.253009796142578\n",
      "8.64297866821289\n",
      "9.108452796936035\n",
      "7.178742408752441\n",
      "9.831550598144531\n",
      "5.762266635894775\n",
      "9.50097370147705\n",
      "10.957695960998535\n",
      "12.328742980957031\n",
      "8.328937530517578\n",
      "8.131488800048828\n",
      "11.364215850830078\n",
      "9.899446487426758\n",
      "7.836635589599609\n",
      "8.942032814025879\n",
      "11.561779022216797\n",
      "9.97337532043457\n",
      "8.2869291305542\n",
      "9.61953067779541\n",
      "9.630435943603516\n",
      "14.119514465332031\n",
      "12.620526313781738\n",
      "8.802383422851562\n",
      "8.957738876342773\n",
      "11.694437980651855\n",
      "16.162137985229492\n",
      "10.493476867675781\n",
      "7.7210798263549805\n",
      "10.860843658447266\n",
      "8.748751640319824\n",
      "13.449786186218262\n",
      "10.955209732055664\n",
      "8.923118591308594\n",
      "6.181601047515869\n",
      "8.725625991821289\n",
      "6.119848251342773\n",
      "11.221086502075195\n",
      "8.663549423217773\n",
      "9.03221607208252\n",
      "8.159632682800293\n",
      "11.553065299987793\n",
      "7.1041059494018555\n",
      "6.436527729034424\n",
      "9.19931697845459\n",
      "6.504988670349121\n",
      "8.564536094665527\n",
      "6.59806489944458\n",
      "8.718829154968262\n",
      "7.369975566864014\n",
      "11.306722640991211\n",
      "10.493293762207031\n",
      "7.680598735809326\n",
      "8.20093059539795\n",
      "7.427743911743164\n",
      "7.3400983810424805\n",
      "8.856118202209473\n",
      "7.980756759643555\n",
      "11.46378231048584\n",
      "8.093060493469238\n",
      "9.521681785583496\n",
      "6.227016925811768\n",
      "8.569214820861816\n",
      "8.454265594482422\n",
      "7.388335227966309\n",
      "6.649340629577637\n",
      "7.111802101135254\n",
      "7.661591053009033\n",
      "12.89154052734375\n",
      "8.51455020904541\n",
      "5.992252349853516\n",
      "6.762502193450928\n",
      "6.146595478057861\n",
      "8.050479888916016\n",
      "8.089849472045898\n",
      "7.87835168838501\n",
      "7.628716945648193\n",
      "7.732893943786621\n",
      "6.767331600189209\n",
      "8.324596405029297\n",
      "8.824007987976074\n",
      "8.258061408996582\n",
      "7.636016368865967\n",
      "6.856623649597168\n",
      "6.543000221252441\n",
      "7.319474697113037\n",
      "5.69791841506958\n",
      "5.777251243591309\n",
      "6.574363708496094\n",
      "5.4569573402404785\n"
     ]
    },
    {
     "data": {
      "text/plain": [
       "5.4569573402404785"
      ]
     },
     "execution_count": 42,
     "metadata": {},
     "output_type": "execute_result"
    }
   ],
   "source": [
    "train(x_all, y_all, lr=1, epochs=100)"
   ]
  },
  {
   "cell_type": "markdown",
   "id": "010cfca5-310c-439e-97a5-0fc21ae9166b",
   "metadata": {},
   "source": [
    "Better! How about:"
   ]
  },
  {
   "cell_type": "code",
   "execution_count": 43,
   "id": "6a28c73d-398a-4203-94f7-57f035064ade",
   "metadata": {},
   "outputs": [
    {
     "name": "stdout",
     "output_type": "stream",
     "text": [
      "19.74797821044922\n",
      "38.09200668334961\n",
      "46.314208984375\n",
      "40.89773941040039\n",
      "73.4378433227539\n",
      "58.34128952026367\n",
      "51.356876373291016\n",
      "55.045501708984375\n",
      "54.94329833984375\n",
      "56.30958557128906\n",
      "70.37184143066406\n",
      "56.63667678833008\n",
      "56.90707778930664\n",
      "45.661888122558594\n",
      "50.97232437133789\n",
      "55.65245819091797\n",
      "57.46098327636719\n",
      "78.44556427001953\n",
      "70.66008758544922\n",
      "51.70524978637695\n",
      "48.533164978027344\n",
      "80.0494613647461\n",
      "90.79659271240234\n",
      "61.892642974853516\n",
      "52.87863540649414\n",
      "41.49900436401367\n",
      "63.885189056396484\n",
      "69.60615539550781\n",
      "60.386714935302734\n",
      "76.09366607666016\n",
      "40.18576431274414\n",
      "53.72964096069336\n",
      "48.1932373046875\n",
      "46.865108489990234\n",
      "48.253753662109375\n",
      "53.61216735839844\n",
      "77.9145278930664\n",
      "75.54542541503906\n",
      "65.61190795898438\n",
      "78.13446044921875\n",
      "83.6716537475586\n",
      "79.6883773803711\n",
      "59.334083557128906\n",
      "74.78559875488281\n",
      "50.28561782836914\n",
      "53.59624099731445\n",
      "35.096195220947266\n",
      "50.16322326660156\n",
      "73.99742889404297\n",
      "86.66049194335938\n",
      "70.05807495117188\n",
      "78.18916320800781\n",
      "48.637943267822266\n",
      "77.84318542480469\n",
      "56.17559051513672\n",
      "44.09672164916992\n",
      "70.90714263916016\n",
      "79.0201187133789\n",
      "67.89301300048828\n",
      "65.17256927490234\n",
      "68.24624633789062\n",
      "63.97649383544922\n",
      "90.05917358398438\n",
      "91.45114135742188\n",
      "60.47791290283203\n",
      "70.57051086425781\n",
      "57.64970397949219\n",
      "44.6708984375\n",
      "54.10292053222656\n",
      "60.48087692260742\n",
      "59.21522903442383\n",
      "51.96377944946289\n",
      "53.79441452026367\n",
      "63.579402923583984\n",
      "65.1745376586914\n",
      "54.898189544677734\n",
      "50.91022872924805\n",
      "55.830299377441406\n",
      "47.503177642822266\n",
      "56.56501770019531\n",
      "46.5484504699707\n",
      "43.91749954223633\n",
      "50.70798110961914\n",
      "48.224388122558594\n",
      "69.06616973876953\n",
      "62.38393020629883\n",
      "53.78395080566406\n",
      "61.84634780883789\n",
      "55.61307907104492\n",
      "48.13108825683594\n",
      "55.1087532043457\n",
      "62.52896499633789\n",
      "52.36894226074219\n",
      "52.819580078125\n",
      "73.38019561767578\n",
      "87.60235595703125\n",
      "78.37958526611328\n",
      "61.38961410522461\n",
      "65.26103973388672\n",
      "70.43557739257812\n"
     ]
    },
    {
     "data": {
      "text/plain": [
       "70.43557739257812"
      ]
     },
     "execution_count": 43,
     "metadata": {},
     "output_type": "execute_result"
    }
   ],
   "source": [
    "train(x_all, y_all, lr=10, epochs=100)"
   ]
  },
  {
   "cell_type": "markdown",
   "id": "ea4e2555-aef4-4fba-bb3e-a3bbe7910849",
   "metadata": {},
   "source": [
    "Haha, no thanks. So, we know that a satisfactory learning rate lies between `0.001` and `1`. To find it, we can lay these numbers out, exponentially separated:"
   ]
  },
  {
   "cell_type": "code",
   "execution_count": 44,
   "id": "8e481cfc-0cdc-4709-aedf-c49139e51101",
   "metadata": {},
   "outputs": [
    {
     "data": {
      "text/plain": [
       "tensor([0.0010, 0.0010, 0.0010, 0.0010, 0.0010, 0.0010, 0.0010, 0.0010, 0.0011,\n",
       "        0.0011, 0.0011, 0.0011, 0.0011, 0.0011, 0.0011, 0.0011, 0.0011, 0.0011,\n",
       "        0.0011, 0.0011, 0.0011, 0.0012, 0.0012, 0.0012, 0.0012, 0.0012, 0.0012,\n",
       "        0.0012, 0.0012, 0.0012, 0.0012, 0.0012, 0.0012, 0.0013, 0.0013, 0.0013,\n",
       "        0.0013, 0.0013, 0.0013, 0.0013, 0.0013, 0.0013, 0.0013, 0.0013, 0.0014,\n",
       "        0.0014, 0.0014, 0.0014, 0.0014, 0.0014, 0.0014, 0.0014, 0.0014, 0.0014,\n",
       "        0.0015, 0.0015, 0.0015, 0.0015, 0.0015, 0.0015, 0.0015, 0.0015, 0.0015,\n",
       "        0.0015, 0.0016, 0.0016, 0.0016, 0.0016, 0.0016, 0.0016, 0.0016, 0.0016,\n",
       "        0.0016, 0.0017, 0.0017, 0.0017, 0.0017, 0.0017, 0.0017, 0.0017, 0.0017,\n",
       "        0.0018, 0.0018, 0.0018, 0.0018, 0.0018, 0.0018, 0.0018, 0.0018, 0.0019,\n",
       "        0.0019, 0.0019, 0.0019, 0.0019, 0.0019, 0.0019, 0.0019, 0.0020, 0.0020,\n",
       "        0.0020, 0.0020, 0.0020, 0.0020, 0.0020, 0.0021, 0.0021, 0.0021, 0.0021,\n",
       "        0.0021, 0.0021, 0.0021, 0.0022, 0.0022, 0.0022, 0.0022, 0.0022, 0.0022,\n",
       "        0.0022, 0.0023, 0.0023, 0.0023, 0.0023, 0.0023, 0.0023, 0.0024, 0.0024,\n",
       "        0.0024, 0.0024, 0.0024, 0.0024, 0.0025, 0.0025, 0.0025, 0.0025, 0.0025,\n",
       "        0.0025, 0.0026, 0.0026, 0.0026, 0.0026, 0.0026, 0.0027, 0.0027, 0.0027,\n",
       "        0.0027, 0.0027, 0.0027, 0.0028, 0.0028, 0.0028, 0.0028, 0.0028, 0.0029,\n",
       "        0.0029, 0.0029, 0.0029, 0.0029, 0.0030, 0.0030, 0.0030, 0.0030, 0.0030,\n",
       "        0.0031, 0.0031, 0.0031, 0.0031, 0.0032, 0.0032, 0.0032, 0.0032, 0.0032,\n",
       "        0.0033, 0.0033, 0.0033, 0.0033, 0.0034, 0.0034, 0.0034, 0.0034, 0.0034,\n",
       "        0.0035, 0.0035, 0.0035, 0.0035, 0.0036, 0.0036, 0.0036, 0.0036, 0.0037,\n",
       "        0.0037, 0.0037, 0.0037, 0.0038, 0.0038, 0.0038, 0.0039, 0.0039, 0.0039,\n",
       "        0.0039, 0.0040, 0.0040, 0.0040, 0.0040, 0.0041, 0.0041, 0.0041, 0.0042,\n",
       "        0.0042, 0.0042, 0.0042, 0.0043, 0.0043, 0.0043, 0.0044, 0.0044, 0.0044,\n",
       "        0.0045, 0.0045, 0.0045, 0.0045, 0.0046, 0.0046, 0.0046, 0.0047, 0.0047,\n",
       "        0.0047, 0.0048, 0.0048, 0.0048, 0.0049, 0.0049, 0.0049, 0.0050, 0.0050,\n",
       "        0.0050, 0.0051, 0.0051, 0.0051, 0.0052, 0.0052, 0.0053, 0.0053, 0.0053,\n",
       "        0.0054, 0.0054, 0.0054, 0.0055, 0.0055, 0.0056, 0.0056, 0.0056, 0.0057,\n",
       "        0.0057, 0.0058, 0.0058, 0.0058, 0.0059, 0.0059, 0.0060, 0.0060, 0.0060,\n",
       "        0.0061, 0.0061, 0.0062, 0.0062, 0.0062, 0.0063, 0.0063, 0.0064, 0.0064,\n",
       "        0.0065, 0.0065, 0.0066, 0.0066, 0.0067, 0.0067, 0.0067, 0.0068, 0.0068,\n",
       "        0.0069, 0.0069, 0.0070, 0.0070, 0.0071, 0.0071, 0.0072, 0.0072, 0.0073,\n",
       "        0.0073, 0.0074, 0.0074, 0.0075, 0.0075, 0.0076, 0.0076, 0.0077, 0.0077,\n",
       "        0.0078, 0.0079, 0.0079, 0.0080, 0.0080, 0.0081, 0.0081, 0.0082, 0.0082,\n",
       "        0.0083, 0.0084, 0.0084, 0.0085, 0.0085, 0.0086, 0.0086, 0.0087, 0.0088,\n",
       "        0.0088, 0.0089, 0.0090, 0.0090, 0.0091, 0.0091, 0.0092, 0.0093, 0.0093,\n",
       "        0.0094, 0.0095, 0.0095, 0.0096, 0.0097, 0.0097, 0.0098, 0.0099, 0.0099,\n",
       "        0.0100, 0.0101, 0.0101, 0.0102, 0.0103, 0.0104, 0.0104, 0.0105, 0.0106,\n",
       "        0.0106, 0.0107, 0.0108, 0.0109, 0.0109, 0.0110, 0.0111, 0.0112, 0.0112,\n",
       "        0.0113, 0.0114, 0.0115, 0.0116, 0.0116, 0.0117, 0.0118, 0.0119, 0.0120,\n",
       "        0.0121, 0.0121, 0.0122, 0.0123, 0.0124, 0.0125, 0.0126, 0.0127, 0.0127,\n",
       "        0.0128, 0.0129, 0.0130, 0.0131, 0.0132, 0.0133, 0.0134, 0.0135, 0.0136,\n",
       "        0.0137, 0.0137, 0.0138, 0.0139, 0.0140, 0.0141, 0.0142, 0.0143, 0.0144,\n",
       "        0.0145, 0.0146, 0.0147, 0.0148, 0.0149, 0.0150, 0.0151, 0.0152, 0.0154,\n",
       "        0.0155, 0.0156, 0.0157, 0.0158, 0.0159, 0.0160, 0.0161, 0.0162, 0.0163,\n",
       "        0.0165, 0.0166, 0.0167, 0.0168, 0.0169, 0.0170, 0.0171, 0.0173, 0.0174,\n",
       "        0.0175, 0.0176, 0.0178, 0.0179, 0.0180, 0.0181, 0.0182, 0.0184, 0.0185,\n",
       "        0.0186, 0.0188, 0.0189, 0.0190, 0.0192, 0.0193, 0.0194, 0.0196, 0.0197,\n",
       "        0.0198, 0.0200, 0.0201, 0.0202, 0.0204, 0.0205, 0.0207, 0.0208, 0.0210,\n",
       "        0.0211, 0.0212, 0.0214, 0.0215, 0.0217, 0.0218, 0.0220, 0.0221, 0.0223,\n",
       "        0.0225, 0.0226, 0.0228, 0.0229, 0.0231, 0.0232, 0.0234, 0.0236, 0.0237,\n",
       "        0.0239, 0.0241, 0.0242, 0.0244, 0.0246, 0.0247, 0.0249, 0.0251, 0.0253,\n",
       "        0.0254, 0.0256, 0.0258, 0.0260, 0.0261, 0.0263, 0.0265, 0.0267, 0.0269,\n",
       "        0.0271, 0.0273, 0.0274, 0.0276, 0.0278, 0.0280, 0.0282, 0.0284, 0.0286,\n",
       "        0.0288, 0.0290, 0.0292, 0.0294, 0.0296, 0.0298, 0.0300, 0.0302, 0.0304,\n",
       "        0.0307, 0.0309, 0.0311, 0.0313, 0.0315, 0.0317, 0.0320, 0.0322, 0.0324,\n",
       "        0.0326, 0.0328, 0.0331, 0.0333, 0.0335, 0.0338, 0.0340, 0.0342, 0.0345,\n",
       "        0.0347, 0.0350, 0.0352, 0.0354, 0.0357, 0.0359, 0.0362, 0.0364, 0.0367,\n",
       "        0.0369, 0.0372, 0.0375, 0.0377, 0.0380, 0.0382, 0.0385, 0.0388, 0.0390,\n",
       "        0.0393, 0.0396, 0.0399, 0.0401, 0.0404, 0.0407, 0.0410, 0.0413, 0.0416,\n",
       "        0.0418, 0.0421, 0.0424, 0.0427, 0.0430, 0.0433, 0.0436, 0.0439, 0.0442,\n",
       "        0.0445, 0.0448, 0.0451, 0.0455, 0.0458, 0.0461, 0.0464, 0.0467, 0.0471,\n",
       "        0.0474, 0.0477, 0.0480, 0.0484, 0.0487, 0.0491, 0.0494, 0.0497, 0.0501,\n",
       "        0.0504, 0.0508, 0.0511, 0.0515, 0.0518, 0.0522, 0.0526, 0.0529, 0.0533,\n",
       "        0.0537, 0.0540, 0.0544, 0.0548, 0.0552, 0.0556, 0.0559, 0.0563, 0.0567,\n",
       "        0.0571, 0.0575, 0.0579, 0.0583, 0.0587, 0.0591, 0.0595, 0.0599, 0.0604,\n",
       "        0.0608, 0.0612, 0.0616, 0.0621, 0.0625, 0.0629, 0.0634, 0.0638, 0.0642,\n",
       "        0.0647, 0.0651, 0.0656, 0.0660, 0.0665, 0.0670, 0.0674, 0.0679, 0.0684,\n",
       "        0.0688, 0.0693, 0.0698, 0.0703, 0.0708, 0.0713, 0.0718, 0.0723, 0.0728,\n",
       "        0.0733, 0.0738, 0.0743, 0.0748, 0.0753, 0.0758, 0.0764, 0.0769, 0.0774,\n",
       "        0.0780, 0.0785, 0.0790, 0.0796, 0.0802, 0.0807, 0.0813, 0.0818, 0.0824,\n",
       "        0.0830, 0.0835, 0.0841, 0.0847, 0.0853, 0.0859, 0.0865, 0.0871, 0.0877,\n",
       "        0.0883, 0.0889, 0.0895, 0.0901, 0.0908, 0.0914, 0.0920, 0.0927, 0.0933,\n",
       "        0.0940, 0.0946, 0.0953, 0.0959, 0.0966, 0.0973, 0.0979, 0.0986, 0.0993,\n",
       "        0.1000, 0.1007, 0.1014, 0.1021, 0.1028, 0.1035, 0.1042, 0.1050, 0.1057,\n",
       "        0.1064, 0.1072, 0.1079, 0.1087, 0.1094, 0.1102, 0.1109, 0.1117, 0.1125,\n",
       "        0.1133, 0.1140, 0.1148, 0.1156, 0.1164, 0.1172, 0.1181, 0.1189, 0.1197,\n",
       "        0.1205, 0.1214, 0.1222, 0.1231, 0.1239, 0.1248, 0.1256, 0.1265, 0.1274,\n",
       "        0.1283, 0.1292, 0.1301, 0.1310, 0.1319, 0.1328, 0.1337, 0.1346, 0.1356,\n",
       "        0.1365, 0.1374, 0.1384, 0.1394, 0.1403, 0.1413, 0.1423, 0.1433, 0.1443,\n",
       "        0.1453, 0.1463, 0.1473, 0.1483, 0.1493, 0.1504, 0.1514, 0.1525, 0.1535,\n",
       "        0.1546, 0.1557, 0.1567, 0.1578, 0.1589, 0.1600, 0.1611, 0.1623, 0.1634,\n",
       "        0.1645, 0.1657, 0.1668, 0.1680, 0.1691, 0.1703, 0.1715, 0.1727, 0.1739,\n",
       "        0.1751, 0.1763, 0.1775, 0.1788, 0.1800, 0.1812, 0.1825, 0.1838, 0.1850,\n",
       "        0.1863, 0.1876, 0.1889, 0.1902, 0.1916, 0.1929, 0.1942, 0.1956, 0.1969,\n",
       "        0.1983, 0.1997, 0.2010, 0.2024, 0.2038, 0.2053, 0.2067, 0.2081, 0.2096,\n",
       "        0.2110, 0.2125, 0.2140, 0.2154, 0.2169, 0.2184, 0.2200, 0.2215, 0.2230,\n",
       "        0.2246, 0.2261, 0.2277, 0.2293, 0.2309, 0.2325, 0.2341, 0.2357, 0.2373,\n",
       "        0.2390, 0.2406, 0.2423, 0.2440, 0.2457, 0.2474, 0.2491, 0.2508, 0.2526,\n",
       "        0.2543, 0.2561, 0.2579, 0.2597, 0.2615, 0.2633, 0.2651, 0.2669, 0.2688,\n",
       "        0.2707, 0.2725, 0.2744, 0.2763, 0.2783, 0.2802, 0.2821, 0.2841, 0.2861,\n",
       "        0.2880, 0.2900, 0.2921, 0.2941, 0.2961, 0.2982, 0.3002, 0.3023, 0.3044,\n",
       "        0.3065, 0.3087, 0.3108, 0.3130, 0.3151, 0.3173, 0.3195, 0.3217, 0.3240,\n",
       "        0.3262, 0.3285, 0.3308, 0.3331, 0.3354, 0.3377, 0.3400, 0.3424, 0.3448,\n",
       "        0.3472, 0.3496, 0.3520, 0.3544, 0.3569, 0.3594, 0.3619, 0.3644, 0.3669,\n",
       "        0.3695, 0.3720, 0.3746, 0.3772, 0.3798, 0.3825, 0.3851, 0.3878, 0.3905,\n",
       "        0.3932, 0.3959, 0.3987, 0.4014, 0.4042, 0.4070, 0.4098, 0.4127, 0.4155,\n",
       "        0.4184, 0.4213, 0.4243, 0.4272, 0.4302, 0.4331, 0.4362, 0.4392, 0.4422,\n",
       "        0.4453, 0.4484, 0.4515, 0.4546, 0.4578, 0.4610, 0.4642, 0.4674, 0.4706,\n",
       "        0.4739, 0.4772, 0.4805, 0.4838, 0.4872, 0.4906, 0.4940, 0.4974, 0.5008,\n",
       "        0.5043, 0.5078, 0.5113, 0.5149, 0.5185, 0.5221, 0.5257, 0.5293, 0.5330,\n",
       "        0.5367, 0.5404, 0.5442, 0.5479, 0.5517, 0.5556, 0.5594, 0.5633, 0.5672,\n",
       "        0.5712, 0.5751, 0.5791, 0.5831, 0.5872, 0.5913, 0.5954, 0.5995, 0.6036,\n",
       "        0.6078, 0.6120, 0.6163, 0.6206, 0.6249, 0.6292, 0.6336, 0.6380, 0.6424,\n",
       "        0.6469, 0.6513, 0.6559, 0.6604, 0.6650, 0.6696, 0.6743, 0.6789, 0.6837,\n",
       "        0.6884, 0.6932, 0.6980, 0.7028, 0.7077, 0.7126, 0.7176, 0.7225, 0.7275,\n",
       "        0.7326, 0.7377, 0.7428, 0.7480, 0.7531, 0.7584, 0.7636, 0.7689, 0.7743,\n",
       "        0.7796, 0.7850, 0.7905, 0.7960, 0.8015, 0.8071, 0.8127, 0.8183, 0.8240,\n",
       "        0.8297, 0.8355, 0.8412, 0.8471, 0.8530, 0.8589, 0.8648, 0.8708, 0.8769,\n",
       "        0.8830, 0.8891, 0.8953, 0.9015, 0.9077, 0.9140, 0.9204, 0.9268, 0.9332,\n",
       "        0.9397, 0.9462, 0.9528, 0.9594, 0.9660, 0.9727, 0.9795, 0.9863, 0.9931,\n",
       "        1.0000])"
      ]
     },
     "execution_count": 44,
     "metadata": {},
     "output_type": "execute_result"
    }
   ],
   "source": [
    "step = 1000\n",
    "lre = torch.linspace(-3, 0, step)\n",
    "lrs = 10**lre\n",
    "lrs"
   ]
  },
  {
   "cell_type": "markdown",
   "id": "4f63a38a-872c-413c-8e67-a8cb5cae9c99",
   "metadata": {},
   "source": [
    "then, we plot the loss for each learning rate:"
   ]
  },
  {
   "cell_type": "code",
   "execution_count": 45,
   "id": "d2d7f1ed-8b28-48dd-9a4b-116c9f6ed7ca",
   "metadata": {},
   "outputs": [
    {
     "data": {
      "text/plain": [
       "[<matplotlib.lines.Line2D at 0x7f70a7d1bc90>]"
      ]
     },
     "execution_count": 45,
     "metadata": {},
     "output_type": "execute_result"
    },
    {
     "data": {
      "application/vnd.jupyter.widget-view+json": {
       "model_id": "e9e22b74e1844fd4b84c5f82be7c853c",
       "version_major": 2,
       "version_minor": 0
      },
      "image/png": "[encoded data removed]",
      "text/html": [
       "\n",
       "            <div style=\"display: inline-block;\">\n",
       "                <div class=\"jupyter-widgets widget-label\" style=\"text-align: center;\">\n",
       "                    Figure\n",
       "                </div>\n",
       "                <img src='data:image/png;base64,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' width=640.0/>\n",
       "            </div>\n",
       "        "
      ],
      "text/plain": [
       "Canvas(toolbar=Toolbar(toolitems=[('Home', 'Reset original view', 'home', 'home'), ('Back', 'Back to previous …"
      ]
     },
     "metadata": {},
     "output_type": "display_data"
    }
   ],
   "source": [
    "parameters = define_nn()\n",
    "lrei = []\n",
    "lossi = []\n",
    "for p in parameters:\n",
    "    p.requires_grad = True\n",
    "for i in range(1000):\n",
    "    batchix = torch.randint(0, x_all.shape[0], (batchsize,))\n",
    "    bx, by = x_all[batchix], y_all[batchix]\n",
    "    loss = forward_pass(bx, by)\n",
    "    # print(loss.item())\n",
    "    for p in parameters:\n",
    "        p.grad = None\n",
    "    loss.backward()\n",
    "    lr = lrs[i]\n",
    "    for p in parameters:\n",
    "        p.data += -lr * p.grad\n",
    "    lrei.append(lre[i])\n",
    "    lossi.append(loss.item())\n",
    "plt.figure()\n",
    "plt.plot(lrei, lossi)"
   ]
  },
  {
   "cell_type": "markdown",
   "id": "89e6312b-1c82-4c6c-a7a1-0a47bce351a4",
   "metadata": {},
   "source": [
    "Here, we see the **loss** dropping as the exponent of the learning rate starts to increase, then, after a learning rate of around `0.5`, the **loss** starts to increase. A good rule of thumb is to pick a learning rate whose at a point around which the **loss** is the lowest and most stable, before any increasing tendency. Let's pick the learning rate whose exponent corresponds to the lowest **loss**:"
   ]
  },
  {
   "cell_type": "code",
   "execution_count": 46,
   "id": "70da2ab6-fd7c-4569-931c-15e4b39fbd72",
   "metadata": {},
   "outputs": [
    {
     "data": {
      "text/plain": [
       "tensor(0.2309)"
      ]
     },
     "execution_count": 46,
     "metadata": {},
     "output_type": "execute_result"
    }
   ],
   "source": [
    "lr = 10**lrei[lossi.index(min(lossi))]\n",
    "lr"
   ]
  },
  {
   "cell_type": "markdown",
   "id": "5154ac9e-1649-42d1-8793-81e77b09ad56",
   "metadata": {},
   "source": [
    "Now we have some confidence that this is a fairly good learning rate. Now let's train for many epochs using this new learning rate!"
   ]
  },
  {
   "cell_type": "code",
   "execution_count": 47,
   "id": "a6c7b611-263c-46fc-9f5e-16aac8b6705a",
   "metadata": {},
   "outputs": [
    {
     "name": "stdout",
     "output_type": "stream",
     "text": [
      "2.5242083072662354\n"
     ]
    }
   ],
   "source": [
    "_ = train(x_all, y_all, lr=lr, epochs=10000, print_all_losses=False)"
   ]
  },
  {
   "cell_type": "markdown",
   "id": "bdc4ac35-6494-48ef-b755-feb8304cb6d3",
   "metadata": {},
   "source": [
    "Nice. We got a much smaller **loss** after training. We have dramatically improved on the bigram language model, using this simple **nn** of only $3481$ parameters. Now, there's something we have to be careful with. Although our **loss** is the lowest so far, it is not _exactly_ true to say that we now have a better model. The reason is that this is actually a very small model. Even though these kind of models can get much larger by adding more and more parameters, e.g. with $10000$, $100000$ or a million parameters, as the capacity of the **nn** grows, it becomes more and more capable of overfitting your training set. What that means is that the **loss** on the training set (the data that you are training on), will become very very low. As low as $0$. But in such a case, all that the model is doing is memorizing your training set exactly, **verbatim**. So, if you were to take this model and it's working very well, but you try to sample from it, you will only get examples, exactly as they are in the training set. You won't get any new data. In addition to that, if you try to evaluate the **loss** on some withheld names or other input data (e.g. words), you will actually see that the **loss** of those will be very high. And so it is in practice basically not a very good model, since it doesn't generalize. So, it is standard in the field to split up the dataset into $3$ splits, as we call them: the _training_ split (roughly $80\\%$ of data), the _dev_/_validation_ split ($10\\%$) and the _test_ split ($10\\%$)."
   ]
  },
  {
   "cell_type": "code",
   "execution_count": 48,
   "id": "d3a34558-6046-4b81-aa9c-334d288ee9ca",
   "metadata": {},
   "outputs": [],
   "source": [
    "# training split, dev/validation split, test split\n",
    "# 80%, 10%, 10%"
   ]
  },
  {
   "cell_type": "markdown",
   "id": "6e6142c0-ce4c-464a-9f40-23025a588429",
   "metadata": {},
   "source": [
    "Now, the training split is used to optimize the parameters of the model (for training). The validation split is typically used for development and tuning over all the hyperparameters of the model, such as the learning rate, layer width, embedding size, regularization parameters, and other settings, in order to choose a combination that works best on this split. The test split is used to evaluate the performance of the model at the end (after training). So, we are only evaluating the **loss** on the test split very very sparingly and very few times. Because, every single time you evaluate your test **loss** and you learn something from it, you are basically trying to also train on the test split. So, you are only allowed to evaluate the **loss** on the test dataset very few times, otherwise you risk overfitting to it as well, as you experiment on your model. Now, let's actually split our dataset into training, validation and test datasets. Then, we are going to train on the training dataset and only evaluate on the test dataset very very sparingly. Here we go:"
   ]
  },
  {
   "cell_type": "code",
   "execution_count": 49,
   "id": "883e5a68-edf8-4f71-a650-50338b4678d9",
   "metadata": {},
   "outputs": [
    {
     "name": "stdout",
     "output_type": "stream",
     "text": [
      "lenwords=32033\n",
      "25626 words in training set\n",
      "3203 words in validation set\n",
      "3204 words in test\n"
     ]
    }
   ],
   "source": [
    "import random\n",
    "\n",
    "random.seed(42)\n",
    "random.shuffle(words)\n",
    "lenwords = len(words)\n",
    "n1 = int(0.8 * lenwords)\n",
    "n2 = int(0.9 * lenwords)\n",
    "print(f\"{lenwords=}\")\n",
    "print(f\"{n1} words in training set\")\n",
    "print(f\"{n2 - n1} words in validation set\")\n",
    "print(f\"{lenwords - n2} words in test\")"
   ]
  },
  {
   "cell_type": "code",
   "execution_count": 50,
   "id": "a833ab95-93f0-487d-8afb-362e81de9aee",
   "metadata": {},
   "outputs": [
    {
     "name": "stdout",
     "output_type": "stream",
     "text": [
      "torch.Size([182580, 3]) torch.Size([182580])\n",
      "torch.Size([22767, 3]) torch.Size([22767])\n",
      "torch.Size([22799, 3]) torch.Size([22799])\n"
     ]
    }
   ],
   "source": [
    "xtrain, ytrain = build_dataset(words[:n1])\n",
    "xval, yval = build_dataset(words[n1:n2])\n",
    "xtest, ytest = build_dataset(words[n2:])"
   ]
  },
  {
   "cell_type": "markdown",
   "id": "2ca37eff-b76d-4de5-b693-b9a0c52a3d0f",
   "metadata": {},
   "source": [
    "We now have the $3$ split sets. Great! Let's now re-define our parameters train, anew, on the training dataset:"
   ]
  },
  {
   "cell_type": "code",
   "execution_count": 51,
   "id": "b5c755bc-c206-4ff4-adf1-aed344e85e28",
   "metadata": {},
   "outputs": [
    {
     "name": "stdout",
     "output_type": "stream",
     "text": [
      "2.083573579788208\n"
     ]
    }
   ],
   "source": [
    "loss_train = train(xtrain, ytrain, lr=lr, epochs=30000, print_all_losses=False)"
   ]
  },
  {
   "cell_type": "markdown",
   "id": "5beb3b52-f9cd-4bd8-8c34-b03cdb7e88f9",
   "metadata": {},
   "source": [
    "Awesome. Our **nn** has been trained and the final **loss** is actually surprisingly good. Let's now evaluate the **loss** of the validation set (remember, this data was not in the training set on which it was trained):"
   ]
  },
  {
   "cell_type": "code",
   "execution_count": 52,
   "id": "90ea9480-2e04-49fe-b78b-f4f243dc97c7",
   "metadata": {},
   "outputs": [
    {
     "data": {
      "text/plain": [
       "tensor(2.4294, grad_fn=<NllLossBackward0>)"
      ]
     },
     "execution_count": 52,
     "metadata": {},
     "output_type": "execute_result"
    }
   ],
   "source": [
    "loss_val = forward_pass(xval, yval)\n",
    "loss_val"
   ]
  },
  {
   "cell_type": "markdown",
   "id": "23578d78-84d2-4632-abc8-66fbf335aea6",
   "metadata": {},
   "source": [
    "Not too bad! Now, as you can see, our `loss_train` and `loss_val` are pretty close. In fact, they are roughly equal. This means that we are **not** overfitting, but underfitting. It seems that this model is not powerful enough so as not to be purely memorizing the data. Basically, our **nn** is very tiny. But, we can expect to make performance improvements by scaling up the size of this **nn**. The easiest way to do this is to redefine our **nn** with more neurons in the hidden layer:"
   ]
  },
  {
   "cell_type": "code",
   "execution_count": 53,
   "id": "0c1fbfab-74a2-4b32-b781-27e701bc8423",
   "metadata": {},
   "outputs": [],
   "source": [
    "parameters = define_nn(l1out=300)"
   ]
  },
  {
   "cell_type": "markdown",
   "id": "f8e3c70d-da7b-4c20-a646-dee5a9879c56",
   "metadata": {},
   "source": [
    "Then, let's re-train and visualize the loss curve:"
   ]
  },
  {
   "cell_type": "code",
   "execution_count": 54,
   "id": "9853f77d-4228-4643-87dc-681a44cda7ed",
   "metadata": {},
   "outputs": [
    {
     "data": {
      "text/plain": [
       "[<matplotlib.lines.Line2D at 0x7f70a7d26450>]"
      ]
     },
     "execution_count": 54,
     "metadata": {},
     "output_type": "execute_result"
    },
    {
     "data": {
      "application/vnd.jupyter.widget-view+json": {
       "model_id": "7435f13fbd754dadbafc577840424b04",
       "version_major": 2,
       "version_minor": 0
      },
      "image/png": "[encoded data removed]",
      "text/html": [
       "\n",
       "            <div style=\"display: inline-block;\">\n",
       "                <div class=\"jupyter-widgets widget-label\" style=\"text-align: center;\">\n",
       "                    Figure\n",
       "                </div>\n",
       "                <img src='data:image/png;base64,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' width=640.0/>\n",
       "            </div>\n",
       "        "
      ],
      "text/plain": [
       "Canvas(toolbar=Toolbar(toolitems=[('Home', 'Reset original view', 'home', 'home'), ('Back', 'Back to previous …"
      ]
     },
     "metadata": {},
     "output_type": "display_data"
    }
   ],
   "source": [
    "lossi = []\n",
    "stepi = []\n",
    "for p in parameters:\n",
    "    p.requires_grad = True\n",
    "for i in range(30000):\n",
    "    batchix = torch.randint(0, xtrain.shape[0], (batchsize,))\n",
    "    bx, by = xtrain[batchix], ytrain[batchix]\n",
    "    loss = forward_pass(bx, by)\n",
    "    for p in parameters:\n",
    "        p.grad = None\n",
    "    loss.backward()\n",
    "    for p in parameters:\n",
    "        p.data += -lr * p.grad\n",
    "    stepi.append(i)\n",
    "    lossi.append(loss.log10().item())\n",
    "plt.figure()\n",
    "plt.plot(stepi, lossi)"
   ]
  },
  {
   "cell_type": "markdown",
   "id": "08d5eeec-abf7-4934-940a-f2609aba939a",
   "metadata": {},
   "source": [
    "As you can see, it is a bit noisy, but that is just because of the minibatches!"
   ]
  },
  {
   "cell_type": "code",
   "execution_count": 55,
   "id": "0c61e6c7-7363-4b9b-b46a-c4bffdc745ed",
   "metadata": {},
   "outputs": [
    {
     "name": "stdout",
     "output_type": "stream",
     "text": [
      "tensor(2.4805, grad_fn=<NllLossBackward0>)\n",
      "tensor(2.4808, grad_fn=<NllLossBackward0>)\n"
     ]
    }
   ],
   "source": [
    "loss_train = forward_pass(xtrain, ytrain)\n",
    "loss_val = forward_pass(xval, yval)\n",
    "print(loss_train)\n",
    "print(loss_val)"
   ]
  },
  {
   "cell_type": "markdown",
   "id": "6512f188-a1d4-4263-b0ec-3bb45a356958",
   "metadata": {},
   "source": [
    "Awesome, the training loss is actually lower than before, whereas the validation loss is pretty much the same. So, increasing the size of the hidden layer gave us some benefit. Let's experiment more to see if we can get even lower losses by increasing the embedding layer. First though, let's visualize the character embeddings:"
   ]
  },
  {
   "cell_type": "code",
   "execution_count": 56,
   "id": "7ba0f3c6-1fde-4132-931b-20506520c1df",
   "metadata": {},
   "outputs": [
    {
     "data": {
      "application/vnd.jupyter.widget-view+json": {
       "model_id": "9e5b59f480324492897003bc6557de7b",
       "version_major": 2,
       "version_minor": 0
      },
      "image/png": "[encoded data removed]",
      "text/html": [
       "\n",
       "            <div style=\"display: inline-block;\">\n",
       "                <div class=\"jupyter-widgets widget-label\" style=\"text-align: center;\">\n",
       "                    Figure\n",
       "                </div>\n",
       "                <img src='data:image/png;base64,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' width=800.0/>\n",
       "            </div>\n",
       "        "
      ],
      "text/plain": [
       "Canvas(toolbar=Toolbar(toolitems=[('Home', 'Reset original view', 'home', 'home'), ('Back', 'Back to previous …"
      ]
     },
     "metadata": {},
     "output_type": "display_data"
    }
   ],
   "source": [
    "# visualize dimensions 0 and 1 of the embedding matrix C for all characters\n",
    "plt.figure(figsize=(8, 8))\n",
    "plt.scatter(C[:, 0].data, C[:, 1].data, s=200)\n",
    "for i in range(C.shape[0]):\n",
    "    plt.text(\n",
    "        C[i, 0].item(),\n",
    "        C[i, 1].item(),\n",
    "        itoc[i],\n",
    "        ha=\"center\",\n",
    "        va=\"center\",\n",
    "        color=\"white\",\n",
    "    )\n",
    "plt.grid(\"minor\")"
   ]
  },
  {
   "cell_type": "markdown",
   "id": "6d03e14c-979c-4634-9ec8-ea4211cf4409",
   "metadata": {},
   "source": [
    "The network has basically learned to separate out the characters and cluster them a little bit. For example, it has learned some characters are usually found more closer together than others. Let's try to improve our model loss by choosing a greater embeddings layer size of $10$ and by increasing the number of epochs to $200000$, also we'll decay the learning rate after $100000$ epochs:"
   ]
  },
  {
   "cell_type": "code",
   "execution_count": 57,
   "id": "32827278-a7cd-4ac6-b9af-2d3fb7c0b8e5",
   "metadata": {},
   "outputs": [],
   "source": [
    "parameters = define_nn(l1out=200, embsize=10)"
   ]
  },
  {
   "cell_type": "code",
   "execution_count": 58,
   "id": "cb8110fe-b7b5-401b-946e-816c96666e3b",
   "metadata": {},
   "outputs": [
    {
     "data": {
      "application/vnd.jupyter.widget-view+json": {
       "model_id": "8278e481a5184d788204c09648462766",
       "version_major": 2,
       "version_minor": 0
      },
      "image/png": "[encoded data removed]",
      "text/html": [
       "\n",
       "            <div style=\"display: inline-block;\">\n",
       "                <div class=\"jupyter-widgets widget-label\" style=\"text-align: center;\">\n",
       "                    Figure\n",
       "                </div>\n",
       "                <img src='data:image/png;base64,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' width=640.0/>\n",
       "            </div>\n",
       "        "
      ],
      "text/plain": [
       "Canvas(toolbar=Toolbar(toolitems=[('Home', 'Reset original view', 'home', 'home'), ('Back', 'Back to previous …"
      ]
     },
     "metadata": {},
     "output_type": "display_data"
    }
   ],
   "source": [
    "lossi = []\n",
    "stepi = []\n",
    "for p in parameters:\n",
    "    p.requires_grad = True\n",
    "for i in range(200000):\n",
    "    batchix = torch.randint(0, xtrain.shape[0], (batchsize,))\n",
    "    bx, by = xtrain[batchix], ytrain[batchix]\n",
    "    loss = forward_pass(bx, by)\n",
    "    for p in parameters:\n",
    "        p.grad = None\n",
    "    loss.backward()\n",
    "    lr = 0.1 if i < 100000 else 0.01\n",
    "    for p in parameters:\n",
    "        p.data += -lr * p.grad\n",
    "    stepi.append(i)\n",
    "    lossi.append(loss.log10().item())\n",
    "plt.figure()\n",
    "plt.plot(stepi, lossi);"
   ]
  },
  {
   "cell_type": "code",
   "execution_count": 59,
   "id": "b2e44e4f-edd7-4ec8-ad6d-46b11d21be38",
   "metadata": {},
   "outputs": [
    {
     "name": "stdout",
     "output_type": "stream",
     "text": [
      "tensor(2.1189, grad_fn=<NllLossBackward0>)\n",
      "tensor(2.1583, grad_fn=<NllLossBackward0>)\n"
     ]
    }
   ],
   "source": [
    "loss_train = forward_pass(xtrain, ytrain)\n",
    "loss_val = forward_pass(xval, yval)\n",
    "print(loss_train)\n",
    "print(loss_val)"
   ]
  },
  {
   "cell_type": "markdown",
   "id": "692edbca-456a-42dd-955f-6dc212e2f098",
   "metadata": {},
   "source": [
    "Wow, we did it! Both train and validation losses are lower now. Can we go lower? Play around and find out! Now, before we end this lesson, let's sample from our model:"
   ]
  },
  {
   "cell_type": "code",
   "execution_count": 60,
   "id": "d0eb7ba3-1ebf-4ba1-9e8f-0e435e3ca55a",
   "metadata": {},
   "outputs": [
    {
     "name": "stdout",
     "output_type": "stream",
     "text": [
      "mona.\n",
      "kayah.\n",
      "see.\n",
      "med.\n",
      "ryla.\n",
      "remmastendrael.\n",
      "azeer.\n",
      "melin.\n",
      "shivonna.\n",
      "keisen.\n",
      "anaraelynn.\n",
      "hotelin.\n",
      "shaber.\n",
      "shiriel.\n",
      "kinze.\n",
      "jenslenter.\n",
      "fius.\n",
      "kavder.\n",
      "yaralyeha.\n",
      "kayshayton.\n"
     ]
    }
   ],
   "source": [
    "# sample from the model\n",
    "g = torch.Generator().manual_seed(2147483647 + 10)\n",
    "for _ in range(20):    \n",
    "    out = []\n",
    "    context = [0] * block_size # initialize with all ...\n",
    "    while True:\n",
    "        emb = C[torch.tensor([context])] # (1,block_size,d)\n",
    "        h = torch.tanh(emb.view(1, -1) @ w1 + b1)\n",
    "        logits = h @ w2 + b2\n",
    "        probs = F.softmax(logits, dim=1)\n",
    "        ix = torch.multinomial(probs, num_samples=1, generator=g).item()\n",
    "        context = context[1:] + [ix]\n",
    "        out.append(ix)\n",
    "        if ix == 0:\n",
    "            break\n",
    "    print(''.join(itoc[i] for i in out))"
   ]
  },
  {
   "cell_type": "markdown",
   "id": "f1738f7f",
   "metadata": {},
   "source": [
    "## Outro"
   ]
  },
  {
   "cell_type": "markdown",
   "id": "4ef2c357-c347-4436-85c6-20eed1f71bdb",
   "metadata": {},
   "source": [
    "As you can see, our model now is pretty decent and able to produce suprisingly name-like text, which is what we wanted all along! Next up, we will explore **mlp** internals and other such magic."
   ]
  }
 ],
 "metadata": {
  "kernelspec": {
   "display_name": "micrograduate-env",
   "language": "python",
   "name": "python3"
  },
  "language_info": {
   "codemirror_mode": {
    "name": "ipython",
    "version": 3
   },
   "file_extension": ".py",
   "mimetype": "text/x-python",
   "name": "python",
   "nbconvert_exporter": "python",
   "pygments_lexer": "ipython3",
   "version": "3.11.3"
  }
 },
 "nbformat": 4,
 "nbformat_minor": 5
}
